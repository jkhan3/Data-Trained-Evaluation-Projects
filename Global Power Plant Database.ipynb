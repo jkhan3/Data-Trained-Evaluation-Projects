{
 "cells": [
  {
   "cell_type": "markdown",
   "metadata": {},
   "source": [
    "# Problem Statement:"
   ]
  },
  {
   "cell_type": "markdown",
   "metadata": {},
   "source": [
    "**Description**\n",
    "\n",
    "The Global Power Plant Database is a comprehensive, open source database of power plants around the world. It centralizes power plant data to make it easier to navigate, compare and draw insights for one’s own analysis. The database covers approximately 35,000 power plants from 167 countries and includes thermal plants (e.g. coal, gas, oil, nuclear, biomass, waste, geothermal) and renewables (e.g. hydro, wind, solar). Each power plant is geolocated and entries contain information on plant capacity, generation, ownership, and fuel type. It will be continuously updated as data becomes available.\n",
    "\n",
    "**Key attributes of the database**\n",
    "\n",
    "The database includes the following indicators:\n",
    "\n",
    "* `country` (text): 3 character country code corresponding to the ISO 3166-1 alpha-3 specification [5]\n",
    "* `country_long` (text): longer form of the country designation\n",
    "* `name` (text): name or title of the power plant, generally in Romanized form\n",
    "* `gppd_idnr` (text): 10 or 12 character identifier for the power plant\n",
    "* `capacity_mw` (number): electrical generating capacity in megawatts\n",
    "* `latitude` (number): geolocation in decimal degrees; WGS84 (EPSG:4326)\n",
    "* `longitude` (number): geolocation in decimal degrees; WGS84 (EPSG:4326)\n",
    "* `primary_fuel` (text): energy source used in primary electricity generation or export\n",
    "* `other_fuel1` (text): energy source used in electricity generation or export\n",
    "* `other_fuel2` (text): energy source used in electricity generation or export\n",
    "* `other_fuel3` (text): energy source used in electricity generation or export\n",
    "* `commissioning_year` (number): year of plant operation, weighted by unit-capacity when data is available\n",
    "* `owner` (text): majority shareholder of the power plant, generally in Romanized form\n",
    "* `source` (text): entity reporting the data; could be an organization, report, or document, generally in Romanized form\n",
    "* `url` (text): web document corresponding to the `source` field\n",
    "* `geolocation_source` (text): attribution for geolocation information\n",
    "* `wepp_id` (text): a reference to a unique plant identifier in the widely-used PLATTS-WEPP database.\n",
    "* `year_of_capacity_data` (number): year the capacity information was reported\n",
    "* `generation_gwh_2013` (number): electricity generation in gigawatt-hours reported for the year 2013\n",
    "* `generation_gwh_2014` (number): electricity generation in gigawatt-hours reported for the year 2014\n",
    "* `generation_gwh_2015` (number): electricity generation in gigawatt-hours reported for the year 2015\n",
    "* `generation_gwh_2016` (number): electricity generation in gigawatt-hours reported for the year 2016\n",
    "* `generation_gwh_2017` (number): electricity generation in gigawatt-hours reported for the year 2017\n",
    "* `generation_gwh_2018` (number): electricity generation in gigawatt-hours reported for the year 2018\n",
    "* `generation_gwh_2019` (number): electricity generation in gigawatt-hours reported for the year 2019\n",
    "* `generation_data_source` (text): attribution for the reported generation information\n",
    "* `estimated_generation_gwh_2013` (number): estimated electricity generation in gigawatt-hours for the year 2013\n",
    "* `estimated_generation_gwh_2014` (number): estimated electricity generation in gigawatt-hours for the year 2014 \n",
    "* `estimated_generation_gwh_2015` (number): estimated electricity generation in gigawatt-hours for the year 2015 \n",
    "* `estimated_generation_gwh_2016` (number): estimated electricity generation in gigawatt-hours for the year 2016 \n",
    "* `estimated_generation_gwh_2017` (number): estimated electricity generation in gigawatt-hours for the year 2017 \n",
    "* `estimated_generation_note_2013` (text): label of the model/method used to estimate generation for the year 2013\n",
    "* `estimated_generation_note_2014` (text): label of the model/method used to estimate generation for the year 2014 \n",
    "* `estimated_generation_note_2015` (text): label of the model/method used to estimate generation for the year 2015\n",
    "* `estimated_generation_note_2016` (text): label of the model/method used to estimate generation for the year 2016\n",
    "* `estimated_generation_note_2017` (text): label of the model/method used to estimate generation for the year 2017 "
   ]
  },
  {
   "cell_type": "code",
   "execution_count": 54,
   "metadata": {},
   "outputs": [],
   "source": [
    "import pandas as pd\n",
    "import numpy as np\n",
    "import seaborn as sns\n",
    "import matplotlib.pyplot as plt\n",
    "import plotly.express as px \n",
    "import warnings\n",
    "warnings.filterwarnings('ignore')"
   ]
  },
  {
   "cell_type": "code",
   "execution_count": 55,
   "metadata": {
    "scrolled": false
   },
   "outputs": [
    {
     "data": {
      "text/html": [
       "<div>\n",
       "<style scoped>\n",
       "    .dataframe tbody tr th:only-of-type {\n",
       "        vertical-align: middle;\n",
       "    }\n",
       "\n",
       "    .dataframe tbody tr th {\n",
       "        vertical-align: top;\n",
       "    }\n",
       "\n",
       "    .dataframe thead th {\n",
       "        text-align: right;\n",
       "    }\n",
       "</style>\n",
       "<table border=\"1\" class=\"dataframe\">\n",
       "  <thead>\n",
       "    <tr style=\"text-align: right;\">\n",
       "      <th></th>\n",
       "      <th>0</th>\n",
       "      <th>1</th>\n",
       "      <th>2</th>\n",
       "      <th>3</th>\n",
       "      <th>4</th>\n",
       "    </tr>\n",
       "  </thead>\n",
       "  <tbody>\n",
       "    <tr>\n",
       "      <th>country</th>\n",
       "      <td>IND</td>\n",
       "      <td>IND</td>\n",
       "      <td>IND</td>\n",
       "      <td>IND</td>\n",
       "      <td>IND</td>\n",
       "    </tr>\n",
       "    <tr>\n",
       "      <th>country_long</th>\n",
       "      <td>India</td>\n",
       "      <td>India</td>\n",
       "      <td>India</td>\n",
       "      <td>India</td>\n",
       "      <td>India</td>\n",
       "    </tr>\n",
       "    <tr>\n",
       "      <th>name</th>\n",
       "      <td>ACME Solar Tower</td>\n",
       "      <td>ADITYA CEMENT WORKS</td>\n",
       "      <td>AES Saurashtra Windfarms</td>\n",
       "      <td>AGARTALA GT</td>\n",
       "      <td>AKALTARA TPP</td>\n",
       "    </tr>\n",
       "    <tr>\n",
       "      <th>gppd_idnr</th>\n",
       "      <td>WRI1020239</td>\n",
       "      <td>WRI1019881</td>\n",
       "      <td>WRI1026669</td>\n",
       "      <td>IND0000001</td>\n",
       "      <td>IND0000002</td>\n",
       "    </tr>\n",
       "    <tr>\n",
       "      <th>capacity_mw</th>\n",
       "      <td>2.5</td>\n",
       "      <td>98</td>\n",
       "      <td>39.2</td>\n",
       "      <td>135</td>\n",
       "      <td>1800</td>\n",
       "    </tr>\n",
       "    <tr>\n",
       "      <th>latitude</th>\n",
       "      <td>28.1839</td>\n",
       "      <td>24.7663</td>\n",
       "      <td>21.9038</td>\n",
       "      <td>23.8712</td>\n",
       "      <td>21.9603</td>\n",
       "    </tr>\n",
       "    <tr>\n",
       "      <th>longitude</th>\n",
       "      <td>73.2407</td>\n",
       "      <td>74.609</td>\n",
       "      <td>69.3732</td>\n",
       "      <td>91.3602</td>\n",
       "      <td>82.4091</td>\n",
       "    </tr>\n",
       "    <tr>\n",
       "      <th>primary_fuel</th>\n",
       "      <td>Solar</td>\n",
       "      <td>Coal</td>\n",
       "      <td>Wind</td>\n",
       "      <td>Gas</td>\n",
       "      <td>Coal</td>\n",
       "    </tr>\n",
       "    <tr>\n",
       "      <th>other_fuel1</th>\n",
       "      <td>NaN</td>\n",
       "      <td>NaN</td>\n",
       "      <td>NaN</td>\n",
       "      <td>NaN</td>\n",
       "      <td>Oil</td>\n",
       "    </tr>\n",
       "    <tr>\n",
       "      <th>other_fuel2</th>\n",
       "      <td>NaN</td>\n",
       "      <td>NaN</td>\n",
       "      <td>NaN</td>\n",
       "      <td>NaN</td>\n",
       "      <td>NaN</td>\n",
       "    </tr>\n",
       "    <tr>\n",
       "      <th>other_fuel3</th>\n",
       "      <td>NaN</td>\n",
       "      <td>NaN</td>\n",
       "      <td>NaN</td>\n",
       "      <td>NaN</td>\n",
       "      <td>NaN</td>\n",
       "    </tr>\n",
       "    <tr>\n",
       "      <th>commissioning_year</th>\n",
       "      <td>2011</td>\n",
       "      <td>NaN</td>\n",
       "      <td>NaN</td>\n",
       "      <td>2004</td>\n",
       "      <td>2015</td>\n",
       "    </tr>\n",
       "    <tr>\n",
       "      <th>owner</th>\n",
       "      <td>Solar Paces</td>\n",
       "      <td>Ultratech Cement ltd</td>\n",
       "      <td>AES</td>\n",
       "      <td>NaN</td>\n",
       "      <td>NaN</td>\n",
       "    </tr>\n",
       "    <tr>\n",
       "      <th>source</th>\n",
       "      <td>National Renewable Energy Laboratory</td>\n",
       "      <td>Ultratech Cement ltd</td>\n",
       "      <td>CDM</td>\n",
       "      <td>Central Electricity Authority</td>\n",
       "      <td>Central Electricity Authority</td>\n",
       "    </tr>\n",
       "    <tr>\n",
       "      <th>url</th>\n",
       "      <td>http://www.nrel.gov/csp/solarpaces/project_det...</td>\n",
       "      <td>http://www.ultratechcement.com/</td>\n",
       "      <td>https://cdm.unfccc.int/Projects/DB/DNV-CUK1328...</td>\n",
       "      <td>http://www.cea.nic.in/</td>\n",
       "      <td>http://www.cea.nic.in/</td>\n",
       "    </tr>\n",
       "    <tr>\n",
       "      <th>geolocation_source</th>\n",
       "      <td>National Renewable Energy Laboratory</td>\n",
       "      <td>WRI</td>\n",
       "      <td>WRI</td>\n",
       "      <td>WRI</td>\n",
       "      <td>WRI</td>\n",
       "    </tr>\n",
       "    <tr>\n",
       "      <th>wepp_id</th>\n",
       "      <td>NaN</td>\n",
       "      <td>NaN</td>\n",
       "      <td>NaN</td>\n",
       "      <td>NaN</td>\n",
       "      <td>NaN</td>\n",
       "    </tr>\n",
       "    <tr>\n",
       "      <th>year_of_capacity_data</th>\n",
       "      <td>NaN</td>\n",
       "      <td>NaN</td>\n",
       "      <td>NaN</td>\n",
       "      <td>2018</td>\n",
       "      <td>2018</td>\n",
       "    </tr>\n",
       "    <tr>\n",
       "      <th>generation_gwh_2013</th>\n",
       "      <td>NaN</td>\n",
       "      <td>NaN</td>\n",
       "      <td>NaN</td>\n",
       "      <td>631.778</td>\n",
       "      <td>1668.29</td>\n",
       "    </tr>\n",
       "    <tr>\n",
       "      <th>generation_gwh_2014</th>\n",
       "      <td>NaN</td>\n",
       "      <td>NaN</td>\n",
       "      <td>NaN</td>\n",
       "      <td>617.789</td>\n",
       "      <td>3035.55</td>\n",
       "    </tr>\n",
       "    <tr>\n",
       "      <th>generation_gwh_2015</th>\n",
       "      <td>NaN</td>\n",
       "      <td>NaN</td>\n",
       "      <td>NaN</td>\n",
       "      <td>843.747</td>\n",
       "      <td>5916.37</td>\n",
       "    </tr>\n",
       "    <tr>\n",
       "      <th>generation_gwh_2016</th>\n",
       "      <td>NaN</td>\n",
       "      <td>NaN</td>\n",
       "      <td>NaN</td>\n",
       "      <td>886.004</td>\n",
       "      <td>6243</td>\n",
       "    </tr>\n",
       "    <tr>\n",
       "      <th>generation_gwh_2017</th>\n",
       "      <td>NaN</td>\n",
       "      <td>NaN</td>\n",
       "      <td>NaN</td>\n",
       "      <td>663.774</td>\n",
       "      <td>5385.58</td>\n",
       "    </tr>\n",
       "    <tr>\n",
       "      <th>generation_data_source</th>\n",
       "      <td>NaN</td>\n",
       "      <td>NaN</td>\n",
       "      <td>NaN</td>\n",
       "      <td>Central Electricity Authority</td>\n",
       "      <td>Central Electricity Authority</td>\n",
       "    </tr>\n",
       "    <tr>\n",
       "      <th>estimated_generation_gwh</th>\n",
       "      <td>NaN</td>\n",
       "      <td>NaN</td>\n",
       "      <td>NaN</td>\n",
       "      <td>NaN</td>\n",
       "      <td>NaN</td>\n",
       "    </tr>\n",
       "  </tbody>\n",
       "</table>\n",
       "</div>"
      ],
      "text/plain": [
       "                                                                          0  \\\n",
       "country                                                                 IND   \n",
       "country_long                                                          India   \n",
       "name                                                       ACME Solar Tower   \n",
       "gppd_idnr                                                        WRI1020239   \n",
       "capacity_mw                                                             2.5   \n",
       "latitude                                                            28.1839   \n",
       "longitude                                                           73.2407   \n",
       "primary_fuel                                                          Solar   \n",
       "other_fuel1                                                             NaN   \n",
       "other_fuel2                                                             NaN   \n",
       "other_fuel3                                                             NaN   \n",
       "commissioning_year                                                     2011   \n",
       "owner                                                           Solar Paces   \n",
       "source                                 National Renewable Energy Laboratory   \n",
       "url                       http://www.nrel.gov/csp/solarpaces/project_det...   \n",
       "geolocation_source                     National Renewable Energy Laboratory   \n",
       "wepp_id                                                                 NaN   \n",
       "year_of_capacity_data                                                   NaN   \n",
       "generation_gwh_2013                                                     NaN   \n",
       "generation_gwh_2014                                                     NaN   \n",
       "generation_gwh_2015                                                     NaN   \n",
       "generation_gwh_2016                                                     NaN   \n",
       "generation_gwh_2017                                                     NaN   \n",
       "generation_data_source                                                  NaN   \n",
       "estimated_generation_gwh                                                NaN   \n",
       "\n",
       "                                                        1  \\\n",
       "country                                               IND   \n",
       "country_long                                        India   \n",
       "name                                  ADITYA CEMENT WORKS   \n",
       "gppd_idnr                                      WRI1019881   \n",
       "capacity_mw                                            98   \n",
       "latitude                                          24.7663   \n",
       "longitude                                          74.609   \n",
       "primary_fuel                                         Coal   \n",
       "other_fuel1                                           NaN   \n",
       "other_fuel2                                           NaN   \n",
       "other_fuel3                                           NaN   \n",
       "commissioning_year                                    NaN   \n",
       "owner                                Ultratech Cement ltd   \n",
       "source                               Ultratech Cement ltd   \n",
       "url                       http://www.ultratechcement.com/   \n",
       "geolocation_source                                    WRI   \n",
       "wepp_id                                               NaN   \n",
       "year_of_capacity_data                                 NaN   \n",
       "generation_gwh_2013                                   NaN   \n",
       "generation_gwh_2014                                   NaN   \n",
       "generation_gwh_2015                                   NaN   \n",
       "generation_gwh_2016                                   NaN   \n",
       "generation_gwh_2017                                   NaN   \n",
       "generation_data_source                                NaN   \n",
       "estimated_generation_gwh                              NaN   \n",
       "\n",
       "                                                                          2  \\\n",
       "country                                                                 IND   \n",
       "country_long                                                          India   \n",
       "name                                               AES Saurashtra Windfarms   \n",
       "gppd_idnr                                                        WRI1026669   \n",
       "capacity_mw                                                            39.2   \n",
       "latitude                                                            21.9038   \n",
       "longitude                                                           69.3732   \n",
       "primary_fuel                                                           Wind   \n",
       "other_fuel1                                                             NaN   \n",
       "other_fuel2                                                             NaN   \n",
       "other_fuel3                                                             NaN   \n",
       "commissioning_year                                                      NaN   \n",
       "owner                                                                   AES   \n",
       "source                                                                  CDM   \n",
       "url                       https://cdm.unfccc.int/Projects/DB/DNV-CUK1328...   \n",
       "geolocation_source                                                      WRI   \n",
       "wepp_id                                                                 NaN   \n",
       "year_of_capacity_data                                                   NaN   \n",
       "generation_gwh_2013                                                     NaN   \n",
       "generation_gwh_2014                                                     NaN   \n",
       "generation_gwh_2015                                                     NaN   \n",
       "generation_gwh_2016                                                     NaN   \n",
       "generation_gwh_2017                                                     NaN   \n",
       "generation_data_source                                                  NaN   \n",
       "estimated_generation_gwh                                                NaN   \n",
       "\n",
       "                                                      3  \\\n",
       "country                                             IND   \n",
       "country_long                                      India   \n",
       "name                                        AGARTALA GT   \n",
       "gppd_idnr                                    IND0000001   \n",
       "capacity_mw                                         135   \n",
       "latitude                                        23.8712   \n",
       "longitude                                       91.3602   \n",
       "primary_fuel                                        Gas   \n",
       "other_fuel1                                         NaN   \n",
       "other_fuel2                                         NaN   \n",
       "other_fuel3                                         NaN   \n",
       "commissioning_year                                 2004   \n",
       "owner                                               NaN   \n",
       "source                    Central Electricity Authority   \n",
       "url                              http://www.cea.nic.in/   \n",
       "geolocation_source                                  WRI   \n",
       "wepp_id                                             NaN   \n",
       "year_of_capacity_data                              2018   \n",
       "generation_gwh_2013                             631.778   \n",
       "generation_gwh_2014                             617.789   \n",
       "generation_gwh_2015                             843.747   \n",
       "generation_gwh_2016                             886.004   \n",
       "generation_gwh_2017                             663.774   \n",
       "generation_data_source    Central Electricity Authority   \n",
       "estimated_generation_gwh                            NaN   \n",
       "\n",
       "                                                      4  \n",
       "country                                             IND  \n",
       "country_long                                      India  \n",
       "name                                       AKALTARA TPP  \n",
       "gppd_idnr                                    IND0000002  \n",
       "capacity_mw                                        1800  \n",
       "latitude                                        21.9603  \n",
       "longitude                                       82.4091  \n",
       "primary_fuel                                       Coal  \n",
       "other_fuel1                                         Oil  \n",
       "other_fuel2                                         NaN  \n",
       "other_fuel3                                         NaN  \n",
       "commissioning_year                                 2015  \n",
       "owner                                               NaN  \n",
       "source                    Central Electricity Authority  \n",
       "url                              http://www.cea.nic.in/  \n",
       "geolocation_source                                  WRI  \n",
       "wepp_id                                             NaN  \n",
       "year_of_capacity_data                              2018  \n",
       "generation_gwh_2013                             1668.29  \n",
       "generation_gwh_2014                             3035.55  \n",
       "generation_gwh_2015                             5916.37  \n",
       "generation_gwh_2016                                6243  \n",
       "generation_gwh_2017                             5385.58  \n",
       "generation_data_source    Central Electricity Authority  \n",
       "estimated_generation_gwh                            NaN  "
      ]
     },
     "execution_count": 55,
     "metadata": {},
     "output_type": "execute_result"
    }
   ],
   "source": [
    "gpp = pd.read_csv(\"database_IND.csv\")\n",
    "gpp.head().T"
   ]
  },
  {
   "cell_type": "markdown",
   "metadata": {},
   "source": [
    "# EDA"
   ]
  },
  {
   "cell_type": "code",
   "execution_count": 56,
   "metadata": {},
   "outputs": [
    {
     "data": {
      "text/plain": [
       "(908, 25)"
      ]
     },
     "execution_count": 56,
     "metadata": {},
     "output_type": "execute_result"
    }
   ],
   "source": [
    "gpp.shape"
   ]
  },
  {
   "cell_type": "code",
   "execution_count": 57,
   "metadata": {},
   "outputs": [
    {
     "data": {
      "text/plain": [
       "country                       0\n",
       "country_long                  0\n",
       "name                          0\n",
       "gppd_idnr                     0\n",
       "capacity_mw                   0\n",
       "latitude                     46\n",
       "longitude                    46\n",
       "primary_fuel                  0\n",
       "other_fuel1                 709\n",
       "other_fuel2                 907\n",
       "other_fuel3                 908\n",
       "commissioning_year          380\n",
       "owner                       566\n",
       "source                        0\n",
       "url                           0\n",
       "geolocation_source           19\n",
       "wepp_id                     908\n",
       "year_of_capacity_data       388\n",
       "generation_gwh_2013         524\n",
       "generation_gwh_2014         507\n",
       "generation_gwh_2015         483\n",
       "generation_gwh_2016         471\n",
       "generation_gwh_2017         465\n",
       "generation_data_source      458\n",
       "estimated_generation_gwh    908\n",
       "dtype: int64"
      ]
     },
     "execution_count": 57,
     "metadata": {},
     "output_type": "execute_result"
    }
   ],
   "source": [
    "gpp.isna().sum()"
   ]
  },
  {
   "cell_type": "code",
   "execution_count": 58,
   "metadata": {},
   "outputs": [
    {
     "data": {
      "image/png": "[encoded data removed]",
      "text/plain": [
       "<Figure size 1440x720 with 2 Axes>"
      ]
     },
     "metadata": {},
     "output_type": "display_data"
    }
   ],
   "source": [
    "plt.figure(figsize=(20,10))\n",
    "sns.heatmap(gpp.isnull(),yticklabels=True,cbar=True,cmap='viridis')\n",
    "plt.show()"
   ]
  },
  {
   "cell_type": "markdown",
   "metadata": {},
   "source": [
    "There are null values present in 17 columns"
   ]
  },
  {
   "cell_type": "code",
   "execution_count": 59,
   "metadata": {},
   "outputs": [
    {
     "data": {
      "text/plain": [
       "country                      object\n",
       "country_long                 object\n",
       "name                         object\n",
       "gppd_idnr                    object\n",
       "capacity_mw                 float64\n",
       "latitude                    float64\n",
       "longitude                   float64\n",
       "primary_fuel                 object\n",
       "other_fuel1                  object\n",
       "other_fuel2                  object\n",
       "other_fuel3                 float64\n",
       "commissioning_year          float64\n",
       "owner                        object\n",
       "source                       object\n",
       "url                          object\n",
       "geolocation_source           object\n",
       "wepp_id                     float64\n",
       "year_of_capacity_data       float64\n",
       "generation_gwh_2013         float64\n",
       "generation_gwh_2014         float64\n",
       "generation_gwh_2015         float64\n",
       "generation_gwh_2016         float64\n",
       "generation_gwh_2017         float64\n",
       "generation_data_source       object\n",
       "estimated_generation_gwh    float64\n",
       "dtype: object"
      ]
     },
     "execution_count": 59,
     "metadata": {},
     "output_type": "execute_result"
    }
   ],
   "source": [
    "gpp.dtypes"
   ]
  },
  {
   "cell_type": "markdown",
   "metadata": {},
   "source": [
    "There are 12 columns with object type data while others are numerical."
   ]
  },
  {
   "cell_type": "code",
   "execution_count": 60,
   "metadata": {},
   "outputs": [
    {
     "data": {
      "text/plain": [
       "capacity_mw                 3.193257\n",
       "latitude                   -0.143622\n",
       "longitude                   1.100942\n",
       "other_fuel3                      NaN\n",
       "commissioning_year         -1.056132\n",
       "wepp_id                          NaN\n",
       "year_of_capacity_data       0.000000\n",
       "generation_gwh_2013         3.416338\n",
       "generation_gwh_2014         3.357683\n",
       "generation_gwh_2015         3.679016\n",
       "generation_gwh_2016         3.524785\n",
       "generation_gwh_2017         3.576849\n",
       "estimated_generation_gwh         NaN\n",
       "dtype: float64"
      ]
     },
     "execution_count": 60,
     "metadata": {},
     "output_type": "execute_result"
    }
   ],
   "source": [
    "gpp.skew()"
   ]
  },
  {
   "cell_type": "markdown",
   "metadata": {},
   "source": [
    "There is skewness present in the data, wepp_id and estimated_generation_gwh does not contain any values"
   ]
  },
  {
   "cell_type": "code",
   "execution_count": 61,
   "metadata": {},
   "outputs": [
    {
     "data": {
      "text/plain": [
       "country                       1\n",
       "country_long                  1\n",
       "name                        908\n",
       "gppd_idnr                   908\n",
       "capacity_mw                 365\n",
       "latitude                    837\n",
       "longitude                   828\n",
       "primary_fuel                  8\n",
       "other_fuel1                   3\n",
       "other_fuel2                   1\n",
       "other_fuel3                   0\n",
       "commissioning_year           73\n",
       "owner                       280\n",
       "source                      191\n",
       "url                         304\n",
       "geolocation_source            3\n",
       "wepp_id                       0\n",
       "year_of_capacity_data         1\n",
       "generation_gwh_2013         364\n",
       "generation_gwh_2014         374\n",
       "generation_gwh_2015         398\n",
       "generation_gwh_2016         405\n",
       "generation_gwh_2017         410\n",
       "generation_data_source        1\n",
       "estimated_generation_gwh      0\n",
       "dtype: int64"
      ]
     },
     "execution_count": 61,
     "metadata": {},
     "output_type": "execute_result"
    }
   ],
   "source": [
    "gpp.nunique()"
   ]
  },
  {
   "cell_type": "markdown",
   "metadata": {},
   "source": [
    "name, and gppd_idnr are identifier columns"
   ]
  },
  {
   "cell_type": "code",
   "execution_count": 62,
   "metadata": {},
   "outputs": [
    {
     "name": "stdout",
     "output_type": "stream",
     "text": [
      "<class 'pandas.core.frame.DataFrame'>\n",
      "RangeIndex: 908 entries, 0 to 907\n",
      "Data columns (total 25 columns):\n",
      " #   Column                    Non-Null Count  Dtype  \n",
      "---  ------                    --------------  -----  \n",
      " 0   country                   908 non-null    object \n",
      " 1   country_long              908 non-null    object \n",
      " 2   name                      908 non-null    object \n",
      " 3   gppd_idnr                 908 non-null    object \n",
      " 4   capacity_mw               908 non-null    float64\n",
      " 5   latitude                  862 non-null    float64\n",
      " 6   longitude                 862 non-null    float64\n",
      " 7   primary_fuel              908 non-null    object \n",
      " 8   other_fuel1               199 non-null    object \n",
      " 9   other_fuel2               1 non-null      object \n",
      " 10  other_fuel3               0 non-null      float64\n",
      " 11  commissioning_year        528 non-null    float64\n",
      " 12  owner                     342 non-null    object \n",
      " 13  source                    908 non-null    object \n",
      " 14  url                       908 non-null    object \n",
      " 15  geolocation_source        889 non-null    object \n",
      " 16  wepp_id                   0 non-null      float64\n",
      " 17  year_of_capacity_data     520 non-null    float64\n",
      " 18  generation_gwh_2013       384 non-null    float64\n",
      " 19  generation_gwh_2014       401 non-null    float64\n",
      " 20  generation_gwh_2015       425 non-null    float64\n",
      " 21  generation_gwh_2016       437 non-null    float64\n",
      " 22  generation_gwh_2017       443 non-null    float64\n",
      " 23  generation_data_source    450 non-null    object \n",
      " 24  estimated_generation_gwh  0 non-null      float64\n",
      "dtypes: float64(13), object(12)\n",
      "memory usage: 177.5+ KB\n"
     ]
    }
   ],
   "source": [
    "gpp.info()"
   ]
  },
  {
   "cell_type": "code",
   "execution_count": 63,
   "metadata": {},
   "outputs": [
    {
     "data": {
      "text/html": [
       "<div>\n",
       "<style scoped>\n",
       "    .dataframe tbody tr th:only-of-type {\n",
       "        vertical-align: middle;\n",
       "    }\n",
       "\n",
       "    .dataframe tbody tr th {\n",
       "        vertical-align: top;\n",
       "    }\n",
       "\n",
       "    .dataframe thead th {\n",
       "        text-align: right;\n",
       "    }\n",
       "</style>\n",
       "<table border=\"1\" class=\"dataframe\">\n",
       "  <thead>\n",
       "    <tr style=\"text-align: right;\">\n",
       "      <th></th>\n",
       "      <th>capacity_mw</th>\n",
       "      <th>latitude</th>\n",
       "      <th>longitude</th>\n",
       "      <th>other_fuel3</th>\n",
       "      <th>commissioning_year</th>\n",
       "      <th>wepp_id</th>\n",
       "      <th>year_of_capacity_data</th>\n",
       "      <th>generation_gwh_2013</th>\n",
       "      <th>generation_gwh_2014</th>\n",
       "      <th>generation_gwh_2015</th>\n",
       "      <th>generation_gwh_2016</th>\n",
       "      <th>generation_gwh_2017</th>\n",
       "      <th>estimated_generation_gwh</th>\n",
       "    </tr>\n",
       "  </thead>\n",
       "  <tbody>\n",
       "    <tr>\n",
       "      <th>count</th>\n",
       "      <td>908.000000</td>\n",
       "      <td>862.000000</td>\n",
       "      <td>862.000000</td>\n",
       "      <td>0.0</td>\n",
       "      <td>528.000000</td>\n",
       "      <td>0.0</td>\n",
       "      <td>520.0</td>\n",
       "      <td>384.000000</td>\n",
       "      <td>401.000000</td>\n",
       "      <td>425.000000</td>\n",
       "      <td>437.000000</td>\n",
       "      <td>443.000000</td>\n",
       "      <td>0.0</td>\n",
       "    </tr>\n",
       "    <tr>\n",
       "      <th>mean</th>\n",
       "      <td>321.046378</td>\n",
       "      <td>21.196189</td>\n",
       "      <td>77.447848</td>\n",
       "      <td>NaN</td>\n",
       "      <td>1996.876894</td>\n",
       "      <td>NaN</td>\n",
       "      <td>2018.0</td>\n",
       "      <td>2304.059202</td>\n",
       "      <td>2420.393316</td>\n",
       "      <td>2414.072373</td>\n",
       "      <td>2453.936292</td>\n",
       "      <td>2531.754458</td>\n",
       "      <td>NaN</td>\n",
       "    </tr>\n",
       "    <tr>\n",
       "      <th>std</th>\n",
       "      <td>580.221767</td>\n",
       "      <td>6.248627</td>\n",
       "      <td>4.907260</td>\n",
       "      <td>NaN</td>\n",
       "      <td>17.047817</td>\n",
       "      <td>NaN</td>\n",
       "      <td>0.0</td>\n",
       "      <td>3794.767492</td>\n",
       "      <td>4013.558173</td>\n",
       "      <td>4183.203199</td>\n",
       "      <td>4152.038216</td>\n",
       "      <td>4187.236364</td>\n",
       "      <td>NaN</td>\n",
       "    </tr>\n",
       "    <tr>\n",
       "      <th>min</th>\n",
       "      <td>0.000000</td>\n",
       "      <td>8.168900</td>\n",
       "      <td>68.644700</td>\n",
       "      <td>NaN</td>\n",
       "      <td>1927.000000</td>\n",
       "      <td>NaN</td>\n",
       "      <td>2018.0</td>\n",
       "      <td>0.000000</td>\n",
       "      <td>0.000000</td>\n",
       "      <td>0.000000</td>\n",
       "      <td>0.000000</td>\n",
       "      <td>0.000000</td>\n",
       "      <td>NaN</td>\n",
       "    </tr>\n",
       "    <tr>\n",
       "      <th>25%</th>\n",
       "      <td>16.837500</td>\n",
       "      <td>16.771575</td>\n",
       "      <td>74.258975</td>\n",
       "      <td>NaN</td>\n",
       "      <td>1988.000000</td>\n",
       "      <td>NaN</td>\n",
       "      <td>2018.0</td>\n",
       "      <td>244.458088</td>\n",
       "      <td>223.650436</td>\n",
       "      <td>174.174750</td>\n",
       "      <td>187.193669</td>\n",
       "      <td>177.643170</td>\n",
       "      <td>NaN</td>\n",
       "    </tr>\n",
       "    <tr>\n",
       "      <th>50%</th>\n",
       "      <td>60.000000</td>\n",
       "      <td>21.778300</td>\n",
       "      <td>76.719250</td>\n",
       "      <td>NaN</td>\n",
       "      <td>2000.000000</td>\n",
       "      <td>NaN</td>\n",
       "      <td>2018.0</td>\n",
       "      <td>797.063475</td>\n",
       "      <td>805.760000</td>\n",
       "      <td>701.027250</td>\n",
       "      <td>716.728350</td>\n",
       "      <td>807.601700</td>\n",
       "      <td>NaN</td>\n",
       "    </tr>\n",
       "    <tr>\n",
       "      <th>75%</th>\n",
       "      <td>388.125000</td>\n",
       "      <td>25.516375</td>\n",
       "      <td>79.441475</td>\n",
       "      <td>NaN</td>\n",
       "      <td>2011.250000</td>\n",
       "      <td>NaN</td>\n",
       "      <td>2018.0</td>\n",
       "      <td>2795.021500</td>\n",
       "      <td>3034.575000</td>\n",
       "      <td>3080.000000</td>\n",
       "      <td>3263.483000</td>\n",
       "      <td>3258.785000</td>\n",
       "      <td>NaN</td>\n",
       "    </tr>\n",
       "    <tr>\n",
       "      <th>max</th>\n",
       "      <td>4760.000000</td>\n",
       "      <td>34.649000</td>\n",
       "      <td>95.408000</td>\n",
       "      <td>NaN</td>\n",
       "      <td>2018.000000</td>\n",
       "      <td>NaN</td>\n",
       "      <td>2018.0</td>\n",
       "      <td>27586.200000</td>\n",
       "      <td>28127.000000</td>\n",
       "      <td>30539.000000</td>\n",
       "      <td>30015.000000</td>\n",
       "      <td>35116.000000</td>\n",
       "      <td>NaN</td>\n",
       "    </tr>\n",
       "  </tbody>\n",
       "</table>\n",
       "</div>"
      ],
      "text/plain": [
       "       capacity_mw    latitude   longitude  other_fuel3  commissioning_year  \\\n",
       "count   908.000000  862.000000  862.000000          0.0          528.000000   \n",
       "mean    321.046378   21.196189   77.447848          NaN         1996.876894   \n",
       "std     580.221767    6.248627    4.907260          NaN           17.047817   \n",
       "min       0.000000    8.168900   68.644700          NaN         1927.000000   \n",
       "25%      16.837500   16.771575   74.258975          NaN         1988.000000   \n",
       "50%      60.000000   21.778300   76.719250          NaN         2000.000000   \n",
       "75%     388.125000   25.516375   79.441475          NaN         2011.250000   \n",
       "max    4760.000000   34.649000   95.408000          NaN         2018.000000   \n",
       "\n",
       "       wepp_id  year_of_capacity_data  generation_gwh_2013  \\\n",
       "count      0.0                  520.0           384.000000   \n",
       "mean       NaN                 2018.0          2304.059202   \n",
       "std        NaN                    0.0          3794.767492   \n",
       "min        NaN                 2018.0             0.000000   \n",
       "25%        NaN                 2018.0           244.458088   \n",
       "50%        NaN                 2018.0           797.063475   \n",
       "75%        NaN                 2018.0          2795.021500   \n",
       "max        NaN                 2018.0         27586.200000   \n",
       "\n",
       "       generation_gwh_2014  generation_gwh_2015  generation_gwh_2016  \\\n",
       "count           401.000000           425.000000           437.000000   \n",
       "mean           2420.393316          2414.072373          2453.936292   \n",
       "std            4013.558173          4183.203199          4152.038216   \n",
       "min               0.000000             0.000000             0.000000   \n",
       "25%             223.650436           174.174750           187.193669   \n",
       "50%             805.760000           701.027250           716.728350   \n",
       "75%            3034.575000          3080.000000          3263.483000   \n",
       "max           28127.000000         30539.000000         30015.000000   \n",
       "\n",
       "       generation_gwh_2017  estimated_generation_gwh  \n",
       "count           443.000000                       0.0  \n",
       "mean           2531.754458                       NaN  \n",
       "std            4187.236364                       NaN  \n",
       "min               0.000000                       NaN  \n",
       "25%             177.643170                       NaN  \n",
       "50%             807.601700                       NaN  \n",
       "75%            3258.785000                       NaN  \n",
       "max           35116.000000                       NaN  "
      ]
     },
     "execution_count": 63,
     "metadata": {},
     "output_type": "execute_result"
    }
   ],
   "source": [
    "gpp.describe()"
   ]
  },
  {
   "cell_type": "markdown",
   "metadata": {},
   "source": [
    "other_fuel3, wepp_id, and estimated_generation_gwh contain 0 count as these columns does not contain any values, while other have missing values present except capacity_mw."
   ]
  },
  {
   "cell_type": "code",
   "execution_count": 64,
   "metadata": {},
   "outputs": [],
   "source": [
    "#We separate categorical and continuous features\n",
    "\n",
    "categorical=[i for i in gpp.columns if gpp[i].nunique()<11]\n",
    "continues=[i for i in gpp.columns if gpp[i].nunique()>=11]"
   ]
  },
  {
   "cell_type": "markdown",
   "metadata": {},
   "source": [
    "## Univariate Analysis"
   ]
  },
  {
   "cell_type": "code",
   "execution_count": 65,
   "metadata": {},
   "outputs": [
    {
     "data": {
      "text/html": [
       "<div>\n",
       "<style scoped>\n",
       "    .dataframe tbody tr th:only-of-type {\n",
       "        vertical-align: middle;\n",
       "    }\n",
       "\n",
       "    .dataframe tbody tr th {\n",
       "        vertical-align: top;\n",
       "    }\n",
       "\n",
       "    .dataframe thead th {\n",
       "        text-align: right;\n",
       "    }\n",
       "</style>\n",
       "<table border=\"1\" class=\"dataframe\">\n",
       "  <thead>\n",
       "    <tr style=\"text-align: right;\">\n",
       "      <th></th>\n",
       "      <th>commissioning_year</th>\n",
       "    </tr>\n",
       "  </thead>\n",
       "  <tbody>\n",
       "    <tr>\n",
       "      <th>1969.0</th>\n",
       "      <td>1</td>\n",
       "    </tr>\n",
       "    <tr>\n",
       "      <th>1956.0</th>\n",
       "      <td>1</td>\n",
       "    </tr>\n",
       "    <tr>\n",
       "      <th>1949.0</th>\n",
       "      <td>1</td>\n",
       "    </tr>\n",
       "    <tr>\n",
       "      <th>1927.0</th>\n",
       "      <td>1</td>\n",
       "    </tr>\n",
       "    <tr>\n",
       "      <th>1939.0</th>\n",
       "      <td>1</td>\n",
       "    </tr>\n",
       "    <tr>\n",
       "      <th>...</th>\n",
       "      <td>...</td>\n",
       "    </tr>\n",
       "    <tr>\n",
       "      <th>2014.0</th>\n",
       "      <td>17</td>\n",
       "    </tr>\n",
       "    <tr>\n",
       "      <th>2016.0</th>\n",
       "      <td>21</td>\n",
       "    </tr>\n",
       "    <tr>\n",
       "      <th>2012.0</th>\n",
       "      <td>23</td>\n",
       "    </tr>\n",
       "    <tr>\n",
       "      <th>2015.0</th>\n",
       "      <td>26</td>\n",
       "    </tr>\n",
       "    <tr>\n",
       "      <th>2013.0</th>\n",
       "      <td>28</td>\n",
       "    </tr>\n",
       "  </tbody>\n",
       "</table>\n",
       "<p>73 rows × 1 columns</p>\n",
       "</div>"
      ],
      "text/plain": [
       "        commissioning_year\n",
       "1969.0                   1\n",
       "1956.0                   1\n",
       "1949.0                   1\n",
       "1927.0                   1\n",
       "1939.0                   1\n",
       "...                    ...\n",
       "2014.0                  17\n",
       "2016.0                  21\n",
       "2012.0                  23\n",
       "2015.0                  26\n",
       "2013.0                  28\n",
       "\n",
       "[73 rows x 1 columns]"
      ]
     },
     "execution_count": 65,
     "metadata": {},
     "output_type": "execute_result"
    }
   ],
   "source": [
    "com_year=pd.DataFrame(gpp['commissioning_year'].value_counts(ascending=True))\n",
    "com_year"
   ]
  },
  {
   "cell_type": "code",
   "execution_count": 66,
   "metadata": {},
   "outputs": [
    {
     "data": {
      "text/plain": [
       "<AxesSubplot:title={'center':'Number of Powerplants commissioned as per Year wise'}, ylabel='commissioning_year'>"
      ]
     },
     "execution_count": 66,
     "metadata": {},
     "output_type": "execute_result"
    },
    {
     "data": {
      "image/png": "[encoded data removed]",
      "text/plain": [
       "<Figure size 1440x576 with 1 Axes>"
      ]
     },
     "metadata": {},
     "output_type": "display_data"
    }
   ],
   "source": [
    "sns.set_style(\"whitegrid\")\n",
    "plt.figure(figsize=(20,8))\n",
    "plt.title('Number of Powerplants commissioned as per Year wise')\n",
    "sns.scatterplot(com_year.index,com_year.commissioning_year,alpha=0.8)"
   ]
  },
  {
   "cell_type": "markdown",
   "metadata": {},
   "source": [
    "The above graph shows no of plants commissioned year wise."
   ]
  },
  {
   "cell_type": "code",
   "execution_count": 67,
   "metadata": {},
   "outputs": [
    {
     "data": {
      "text/html": [
       "<div>\n",
       "<style scoped>\n",
       "    .dataframe tbody tr th:only-of-type {\n",
       "        vertical-align: middle;\n",
       "    }\n",
       "\n",
       "    .dataframe tbody tr th {\n",
       "        vertical-align: top;\n",
       "    }\n",
       "\n",
       "    .dataframe thead th {\n",
       "        text-align: right;\n",
       "    }\n",
       "</style>\n",
       "<table border=\"1\" class=\"dataframe\">\n",
       "  <thead>\n",
       "    <tr style=\"text-align: right;\">\n",
       "      <th></th>\n",
       "      <th>primary_fuel</th>\n",
       "      <th>other_fuel1</th>\n",
       "      <th>other_fuel2</th>\n",
       "      <th>other_fuel3</th>\n",
       "      <th>total</th>\n",
       "    </tr>\n",
       "  </thead>\n",
       "  <tbody>\n",
       "    <tr>\n",
       "      <th>Biomass</th>\n",
       "      <td>50.0</td>\n",
       "      <td>0.0</td>\n",
       "      <td>0.0</td>\n",
       "      <td>0.0</td>\n",
       "      <td>50.0</td>\n",
       "    </tr>\n",
       "    <tr>\n",
       "      <th>Coal</th>\n",
       "      <td>259.0</td>\n",
       "      <td>0.0</td>\n",
       "      <td>0.0</td>\n",
       "      <td>0.0</td>\n",
       "      <td>259.0</td>\n",
       "    </tr>\n",
       "    <tr>\n",
       "      <th>Cogeneration</th>\n",
       "      <td>0.0</td>\n",
       "      <td>1.0</td>\n",
       "      <td>0.0</td>\n",
       "      <td>0.0</td>\n",
       "      <td>1.0</td>\n",
       "    </tr>\n",
       "    <tr>\n",
       "      <th>Gas</th>\n",
       "      <td>69.0</td>\n",
       "      <td>2.0</td>\n",
       "      <td>0.0</td>\n",
       "      <td>0.0</td>\n",
       "      <td>71.0</td>\n",
       "    </tr>\n",
       "    <tr>\n",
       "      <th>Hydro</th>\n",
       "      <td>250.0</td>\n",
       "      <td>0.0</td>\n",
       "      <td>0.0</td>\n",
       "      <td>0.0</td>\n",
       "      <td>250.0</td>\n",
       "    </tr>\n",
       "    <tr>\n",
       "      <th>Nuclear</th>\n",
       "      <td>9.0</td>\n",
       "      <td>0.0</td>\n",
       "      <td>0.0</td>\n",
       "      <td>0.0</td>\n",
       "      <td>9.0</td>\n",
       "    </tr>\n",
       "    <tr>\n",
       "      <th>Oil</th>\n",
       "      <td>21.0</td>\n",
       "      <td>196.0</td>\n",
       "      <td>1.0</td>\n",
       "      <td>0.0</td>\n",
       "      <td>218.0</td>\n",
       "    </tr>\n",
       "    <tr>\n",
       "      <th>Solar</th>\n",
       "      <td>127.0</td>\n",
       "      <td>0.0</td>\n",
       "      <td>0.0</td>\n",
       "      <td>0.0</td>\n",
       "      <td>127.0</td>\n",
       "    </tr>\n",
       "    <tr>\n",
       "      <th>Wind</th>\n",
       "      <td>123.0</td>\n",
       "      <td>0.0</td>\n",
       "      <td>0.0</td>\n",
       "      <td>0.0</td>\n",
       "      <td>123.0</td>\n",
       "    </tr>\n",
       "  </tbody>\n",
       "</table>\n",
       "</div>"
      ],
      "text/plain": [
       "              primary_fuel  other_fuel1  other_fuel2  other_fuel3  total\n",
       "Biomass               50.0          0.0          0.0          0.0   50.0\n",
       "Coal                 259.0          0.0          0.0          0.0  259.0\n",
       "Cogeneration           0.0          1.0          0.0          0.0    1.0\n",
       "Gas                   69.0          2.0          0.0          0.0   71.0\n",
       "Hydro                250.0          0.0          0.0          0.0  250.0\n",
       "Nuclear                9.0          0.0          0.0          0.0    9.0\n",
       "Oil                   21.0        196.0          1.0          0.0  218.0\n",
       "Solar                127.0          0.0          0.0          0.0  127.0\n",
       "Wind                 123.0          0.0          0.0          0.0  123.0"
      ]
     },
     "execution_count": 67,
     "metadata": {},
     "output_type": "execute_result"
    }
   ],
   "source": [
    "pf_list=pd.DataFrame(gpp['primary_fuel'].value_counts())\n",
    "of1_list=pd.DataFrame(gpp['other_fuel1'].value_counts())\n",
    "of2_list=pd.DataFrame(gpp['other_fuel2'].value_counts())\n",
    "of3_list=pd.DataFrame(gpp['other_fuel3'].value_counts())\n",
    "\n",
    "pp_fuel=pd.concat([pf_list,of1_list,of2_list,of3_list],axis=1)\n",
    "pp_fuel=pp_fuel.fillna(0)\n",
    "pp_fuel['total']=pp_fuel['primary_fuel']+pp_fuel['other_fuel1']+pp_fuel['other_fuel2']+pp_fuel['other_fuel3']\n",
    "pp_fuel"
   ]
  },
  {
   "cell_type": "code",
   "execution_count": 68,
   "metadata": {},
   "outputs": [
    {
     "data": {
      "image/png": "[encoded data removed]",
      "text/plain": [
       "<Figure size 1440x1800 with 6 Axes>"
      ]
     },
     "metadata": {},
     "output_type": "display_data"
    }
   ],
   "source": [
    "fig,axes=plt.subplots(3,2,figsize=(20,25))\n",
    "\n",
    "axes[0,0].set_title('Primary Fuel')\n",
    "axes[0,0].bar(pf_list.index,pf_list.primary_fuel)\n",
    "axes[0,0].tick_params(axis='x', labelrotation=45)\n",
    "\n",
    "axes[0,1].set_title('other fuel 1')\n",
    "axes[0,1].bar(of1_list.index,of1_list.other_fuel1)\n",
    "axes[0,1].tick_params(axis='x', labelrotation=45)\n",
    "\n",
    "axes[1,0].set_title('other fuel 2')\n",
    "axes[1,0].bar(of2_list.index,of2_list.other_fuel2)\n",
    "axes[1,0].tick_params(axis='x', labelrotation=45)\n",
    "\n",
    "axes[1,1].set_title('other fuel 3')\n",
    "axes[1,1].bar(of3_list.index,of3_list.other_fuel3)\n",
    "axes[1,1].tick_params(axis='x', labelrotation=45)\n",
    "\n",
    "axes[2,0].set_title('Total')\n",
    "axes[2,0].bar(pp_fuel.index,pp_fuel.total)\n",
    "axes[2,0].tick_params(axis='x', labelrotation=45)\n",
    "plt.show()\n"
   ]
  },
  {
   "cell_type": "markdown",
   "metadata": {},
   "source": [
    "We can see that Coal and Hydro are the most used primary fuel. "
   ]
  },
  {
   "cell_type": "markdown",
   "metadata": {},
   "source": [
    "### How many Powerplants are commissioned after 2009?"
   ]
  },
  {
   "cell_type": "code",
   "execution_count": 69,
   "metadata": {},
   "outputs": [
    {
     "name": "stdout",
     "output_type": "stream",
     "text": [
      "After 2009, 908 Powerplants are comissioned in India.\n"
     ]
    }
   ],
   "source": [
    "gpp1=gpp[gpp['commissioning_year']>2009]\n",
    "print('After 2009, {} Powerplants are comissioned in India.'.format(gpp.shape[0]))"
   ]
  },
  {
   "cell_type": "markdown",
   "metadata": {},
   "source": [
    "### Which type of Powerplant is Commisioned most after 2009?"
   ]
  },
  {
   "cell_type": "code",
   "execution_count": 70,
   "metadata": {},
   "outputs": [
    {
     "name": "stdout",
     "output_type": "stream",
     "text": [
      "         primary_fuel\n",
      "Coal              106\n",
      "Hydro              34\n",
      "Gas                13\n",
      "Solar               8\n",
      "Nuclear             1\n"
     ]
    },
    {
     "data": {
      "text/plain": [
       "<AxesSubplot:>"
      ]
     },
     "execution_count": 70,
     "metadata": {},
     "output_type": "execute_result"
    },
    {
     "data": {
      "image/png": "[encoded data removed]",
      "text/plain": [
       "<Figure size 432x288 with 1 Axes>"
      ]
     },
     "metadata": {},
     "output_type": "display_data"
    }
   ],
   "source": [
    "pp_2009=pd.DataFrame(gpp1.primary_fuel.value_counts())\n",
    "print(pp_2009)\n",
    "pp_2009.plot(kind='bar')"
   ]
  },
  {
   "cell_type": "markdown",
   "metadata": {},
   "source": [
    "Majority of the powerplant with Coal have been commissioned after 2009"
   ]
  },
  {
   "cell_type": "markdown",
   "metadata": {},
   "source": [
    "### Which type of these commissioned powerplant produces most Electricity? "
   ]
  },
  {
   "cell_type": "code",
   "execution_count": 71,
   "metadata": {},
   "outputs": [
    {
     "data": {
      "text/html": [
       "<div>\n",
       "<style scoped>\n",
       "    .dataframe tbody tr th:only-of-type {\n",
       "        vertical-align: middle;\n",
       "    }\n",
       "\n",
       "    .dataframe tbody tr th {\n",
       "        vertical-align: top;\n",
       "    }\n",
       "\n",
       "    .dataframe thead th {\n",
       "        text-align: right;\n",
       "    }\n",
       "</style>\n",
       "<table border=\"1\" class=\"dataframe\">\n",
       "  <thead>\n",
       "    <tr style=\"text-align: right;\">\n",
       "      <th></th>\n",
       "      <th>capacity_mw</th>\n",
       "      <th>percentage</th>\n",
       "    </tr>\n",
       "    <tr>\n",
       "      <th>primary_fuel</th>\n",
       "      <th></th>\n",
       "      <th></th>\n",
       "    </tr>\n",
       "  </thead>\n",
       "  <tbody>\n",
       "    <tr>\n",
       "      <th>Coal</th>\n",
       "      <td>107722.00</td>\n",
       "      <td>85.788730</td>\n",
       "    </tr>\n",
       "    <tr>\n",
       "      <th>Hydro</th>\n",
       "      <td>8172.02</td>\n",
       "      <td>6.508115</td>\n",
       "    </tr>\n",
       "    <tr>\n",
       "      <th>Gas</th>\n",
       "      <td>7167.09</td>\n",
       "      <td>5.707799</td>\n",
       "    </tr>\n",
       "    <tr>\n",
       "      <th>Nuclear</th>\n",
       "      <td>2000.00</td>\n",
       "      <td>1.592780</td>\n",
       "    </tr>\n",
       "    <tr>\n",
       "      <th>Solar</th>\n",
       "      <td>505.50</td>\n",
       "      <td>0.402575</td>\n",
       "    </tr>\n",
       "  </tbody>\n",
       "</table>\n",
       "</div>"
      ],
      "text/plain": [
       "              capacity_mw  percentage\n",
       "primary_fuel                         \n",
       "Coal            107722.00   85.788730\n",
       "Hydro             8172.02    6.508115\n",
       "Gas               7167.09    5.707799\n",
       "Nuclear           2000.00    1.592780\n",
       "Solar              505.50    0.402575"
      ]
     },
     "execution_count": 71,
     "metadata": {},
     "output_type": "execute_result"
    }
   ],
   "source": [
    "pp_2010=pd.DataFrame(gpp1.groupby('primary_fuel')['capacity_mw'].sum().sort_values(ascending=False))\n",
    "\n",
    "pp_2010_sum=pp_2010['capacity_mw'].sum()\n",
    "pp_2010['percentage']=pp_2010['capacity_mw']/pp_2010_sum*100\n",
    "pp_2010"
   ]
  },
  {
   "cell_type": "markdown",
   "metadata": {},
   "source": [
    "Commissioned Capacity of Coal Powerplant is 107 GW. It is really a bad news because Coal and Oil based Powerplant produce toxic pollutants. "
   ]
  },
  {
   "cell_type": "markdown",
   "metadata": {},
   "source": [
    "### From 2002 to 2009, Which type of commissioned powerplant produces most Electricity?"
   ]
  },
  {
   "cell_type": "code",
   "execution_count": 72,
   "metadata": {},
   "outputs": [
    {
     "name": "stdout",
     "output_type": "stream",
     "text": [
      "Number of Powerplants commissioned from 2002 to 2010 are 69 .\n"
     ]
    },
    {
     "data": {
      "text/html": [
       "<div>\n",
       "<style scoped>\n",
       "    .dataframe tbody tr th:only-of-type {\n",
       "        vertical-align: middle;\n",
       "    }\n",
       "\n",
       "    .dataframe tbody tr th {\n",
       "        vertical-align: top;\n",
       "    }\n",
       "\n",
       "    .dataframe thead th {\n",
       "        text-align: right;\n",
       "    }\n",
       "</style>\n",
       "<table border=\"1\" class=\"dataframe\">\n",
       "  <thead>\n",
       "    <tr style=\"text-align: right;\">\n",
       "      <th></th>\n",
       "      <th>capacity_mw</th>\n",
       "      <th>percentage</th>\n",
       "    </tr>\n",
       "    <tr>\n",
       "      <th>primary_fuel</th>\n",
       "      <th></th>\n",
       "      <th></th>\n",
       "    </tr>\n",
       "  </thead>\n",
       "  <tbody>\n",
       "    <tr>\n",
       "      <th>Coal</th>\n",
       "      <td>22065.000</td>\n",
       "      <td>53.299425</td>\n",
       "    </tr>\n",
       "    <tr>\n",
       "      <th>Hydro</th>\n",
       "      <td>10458.000</td>\n",
       "      <td>25.261971</td>\n",
       "    </tr>\n",
       "    <tr>\n",
       "      <th>Gas</th>\n",
       "      <td>7995.195</td>\n",
       "      <td>19.312907</td>\n",
       "    </tr>\n",
       "    <tr>\n",
       "      <th>Nuclear</th>\n",
       "      <td>880.000</td>\n",
       "      <td>2.125697</td>\n",
       "    </tr>\n",
       "  </tbody>\n",
       "</table>\n",
       "</div>"
      ],
      "text/plain": [
       "              capacity_mw  percentage\n",
       "primary_fuel                         \n",
       "Coal            22065.000   53.299425\n",
       "Hydro           10458.000   25.261971\n",
       "Gas              7995.195   19.312907\n",
       "Nuclear           880.000    2.125697"
      ]
     },
     "execution_count": 72,
     "metadata": {},
     "output_type": "execute_result"
    }
   ],
   "source": [
    "gpp2=gpp[(gpp['commissioning_year']>2002)&(gpp['commissioning_year']<2010)]\n",
    "print('Number of Powerplants commissioned from 2002 to 2010 are',gpp2.shape[0],'.')\n",
    "\n",
    "pp_2002=pd.DataFrame(gpp2.groupby('primary_fuel')['capacity_mw'].sum().sort_values(ascending=False))\n",
    "pp_2002_sum=pp_2002['capacity_mw'].sum()\n",
    "pp_2002['percentage']=pp_2002['capacity_mw']/pp_2002_sum*100\n",
    "\n",
    "pp_2002"
   ]
  },
  {
   "cell_type": "markdown",
   "metadata": {},
   "source": [
    "* In previous 8 year period(2002-2009), Commissioned capacity of Coal based powerplant is 22 GW.\n",
    "* Commissioned capacity of Hydro power plants is 10 GW."
   ]
  },
  {
   "cell_type": "code",
   "execution_count": 73,
   "metadata": {},
   "outputs": [
    {
     "data": {
      "text/html": [
       "<div>\n",
       "<style scoped>\n",
       "    .dataframe tbody tr th:only-of-type {\n",
       "        vertical-align: middle;\n",
       "    }\n",
       "\n",
       "    .dataframe tbody tr th {\n",
       "        vertical-align: top;\n",
       "    }\n",
       "\n",
       "    .dataframe thead th {\n",
       "        text-align: right;\n",
       "    }\n",
       "</style>\n",
       "<table border=\"1\" class=\"dataframe\">\n",
       "  <thead>\n",
       "    <tr style=\"text-align: right;\">\n",
       "      <th></th>\n",
       "      <th>capacity_mw_2018</th>\n",
       "      <th>percentage_2018</th>\n",
       "      <th>capacity_mw_2009</th>\n",
       "      <th>percentage_2009</th>\n",
       "      <th>%_inc</th>\n",
       "    </tr>\n",
       "    <tr>\n",
       "      <th>primary_fuel</th>\n",
       "      <th></th>\n",
       "      <th></th>\n",
       "      <th></th>\n",
       "      <th></th>\n",
       "      <th></th>\n",
       "    </tr>\n",
       "  </thead>\n",
       "  <tbody>\n",
       "    <tr>\n",
       "      <th>Coal</th>\n",
       "      <td>107722.00</td>\n",
       "      <td>85.788730</td>\n",
       "      <td>22065.000</td>\n",
       "      <td>53.299425</td>\n",
       "      <td>3.882030</td>\n",
       "    </tr>\n",
       "    <tr>\n",
       "      <th>Hydro</th>\n",
       "      <td>8172.02</td>\n",
       "      <td>6.508115</td>\n",
       "      <td>10458.000</td>\n",
       "      <td>25.261971</td>\n",
       "      <td>-0.218587</td>\n",
       "    </tr>\n",
       "    <tr>\n",
       "      <th>Gas</th>\n",
       "      <td>7167.09</td>\n",
       "      <td>5.707799</td>\n",
       "      <td>7995.195</td>\n",
       "      <td>19.312907</td>\n",
       "      <td>-0.103575</td>\n",
       "    </tr>\n",
       "    <tr>\n",
       "      <th>Nuclear</th>\n",
       "      <td>2000.00</td>\n",
       "      <td>1.592780</td>\n",
       "      <td>880.000</td>\n",
       "      <td>2.125697</td>\n",
       "      <td>1.272727</td>\n",
       "    </tr>\n",
       "    <tr>\n",
       "      <th>Solar</th>\n",
       "      <td>505.50</td>\n",
       "      <td>0.402575</td>\n",
       "      <td>NaN</td>\n",
       "      <td>NaN</td>\n",
       "      <td>NaN</td>\n",
       "    </tr>\n",
       "  </tbody>\n",
       "</table>\n",
       "</div>"
      ],
      "text/plain": [
       "              capacity_mw_2018  percentage_2018  capacity_mw_2009  \\\n",
       "primary_fuel                                                        \n",
       "Coal                 107722.00        85.788730         22065.000   \n",
       "Hydro                  8172.02         6.508115         10458.000   \n",
       "Gas                    7167.09         5.707799          7995.195   \n",
       "Nuclear                2000.00         1.592780           880.000   \n",
       "Solar                   505.50         0.402575               NaN   \n",
       "\n",
       "              percentage_2009     %_inc  \n",
       "primary_fuel                             \n",
       "Coal                53.299425  3.882030  \n",
       "Hydro               25.261971 -0.218587  \n",
       "Gas                 19.312907 -0.103575  \n",
       "Nuclear              2.125697  1.272727  \n",
       "Solar                     NaN       NaN  "
      ]
     },
     "execution_count": 73,
     "metadata": {},
     "output_type": "execute_result"
    }
   ],
   "source": [
    "merge=pp_2010.join(pp_2002,lsuffix='_2018', rsuffix='_2009')\n",
    "merge['%_inc']=(merge['capacity_mw_2018']-merge['capacity_mw_2009'])/merge['capacity_mw_2009']\n",
    "merge"
   ]
  },
  {
   "cell_type": "markdown",
   "metadata": {},
   "source": [
    "The Commissioned Solar Powerplant capcity from 2010 to 2018 is increased than previous 8 year period.\n"
   ]
  },
  {
   "cell_type": "code",
   "execution_count": 74,
   "metadata": {},
   "outputs": [
    {
     "data": {
      "text/plain": [
       "Coal       259\n",
       "Hydro      250\n",
       "Solar      127\n",
       "Wind       123\n",
       "Gas         69\n",
       "Biomass     50\n",
       "Oil         21\n",
       "Nuclear      9\n",
       "Name: primary_fuel, dtype: int64"
      ]
     },
     "execution_count": 74,
     "metadata": {},
     "output_type": "execute_result"
    },
    {
     "data": {
      "image/png": "[encoded data removed]",
      "text/plain": [
       "<Figure size 1080x576 with 2 Axes>"
      ]
     },
     "metadata": {},
     "output_type": "display_data"
    }
   ],
   "source": [
    "plt.figure(figsize=(15,8))\n",
    "plt.subplot(1,2,1)\n",
    "gpp['primary_fuel'].value_counts().plot.pie(autopct='%1.1f%%')\n",
    "centre=plt.Circle((0,0),0.7,fc='black')\n",
    "fig=plt.gcf()\n",
    "fig.gca().add_artist(centre)\n",
    "plt.subplot(1,2,2)\n",
    "sns.countplot(x='primary_fuel',data=gpp)\n",
    "gpp['primary_fuel'].value_counts()"
   ]
  },
  {
   "cell_type": "code",
   "execution_count": 75,
   "metadata": {},
   "outputs": [
    {
     "data": {
      "text/plain": [
       "WRI                                     766\n",
       "Industry About                          119\n",
       "National Renewable Energy Laboratory      4\n",
       "Name: geolocation_source, dtype: int64"
      ]
     },
     "execution_count": 75,
     "metadata": {},
     "output_type": "execute_result"
    },
    {
     "data": {
      "image/png": "[encoded data removed]",
      "text/plain": [
       "<Figure size 1080x576 with 2 Axes>"
      ]
     },
     "metadata": {},
     "output_type": "display_data"
    }
   ],
   "source": [
    "plt.figure(figsize=(15,8))\n",
    "plt.subplot(1,2,1)\n",
    "gpp['geolocation_source'].value_counts().plot.pie(autopct='%1.1f%%')\n",
    "centre=plt.Circle((0,0),0.7,fc='black')\n",
    "fig=plt.gcf()\n",
    "fig.gca().add_artist(centre)\n",
    "plt.subplot(1,2,2)\n",
    "sns.countplot(x='geolocation_source',data=gpp)\n",
    "gpp['geolocation_source'].value_counts()"
   ]
  },
  {
   "cell_type": "code",
   "execution_count": 76,
   "metadata": {},
   "outputs": [
    {
     "data": {
      "text/plain": [
       "<AxesSubplot:>"
      ]
     },
     "execution_count": 76,
     "metadata": {},
     "output_type": "execute_result"
    },
    {
     "data": {
      "image/png": "[encoded data removed]",
      "text/plain": [
       "<Figure size 720x720 with 2 Axes>"
      ]
     },
     "metadata": {},
     "output_type": "display_data"
    }
   ],
   "source": [
    "plt.figure(figsize=(10,10))\n",
    "sns.heatmap(gpp.corr(),annot=True,cmap='Greys')"
   ]
  },
  {
   "cell_type": "markdown",
   "metadata": {},
   "source": [
    "generation_gwh_2013, generation_gwh_2014, generation_gwh_2015, generation_gwh_2016 and generation_gwh_2017 are highly correlated with capacity_mw."
   ]
  },
  {
   "cell_type": "markdown",
   "metadata": {},
   "source": [
    "# Pre-processing"
   ]
  },
  {
   "cell_type": "markdown",
   "metadata": {},
   "source": [
    "### Dropping unnecessary columns"
   ]
  },
  {
   "cell_type": "code",
   "execution_count": 77,
   "metadata": {},
   "outputs": [
    {
     "data": {
      "text/plain": [
       "Index(['country', 'country_long', 'name', 'gppd_idnr', 'capacity_mw',\n",
       "       'latitude', 'longitude', 'primary_fuel', 'other_fuel1', 'other_fuel2',\n",
       "       'other_fuel3', 'commissioning_year', 'owner', 'source', 'url',\n",
       "       'geolocation_source', 'wepp_id', 'year_of_capacity_data',\n",
       "       'generation_gwh_2013', 'generation_gwh_2014', 'generation_gwh_2015',\n",
       "       'generation_gwh_2016', 'generation_gwh_2017', 'generation_data_source',\n",
       "       'estimated_generation_gwh'],\n",
       "      dtype='object')"
      ]
     },
     "execution_count": 77,
     "metadata": {},
     "output_type": "execute_result"
    }
   ],
   "source": [
    "gpp.columns"
   ]
  },
  {
   "cell_type": "code",
   "execution_count": 78,
   "metadata": {},
   "outputs": [],
   "source": [
    "gpp.drop(['country','country_long','name','gppd_idnr','other_fuel2','other_fuel3','wepp_id','estimated_generation_gwh'],axis=1,inplace=True)"
   ]
  },
  {
   "cell_type": "code",
   "execution_count": 79,
   "metadata": {},
   "outputs": [],
   "source": [
    "gpp.drop(['year_of_capacity_data'],axis=1,inplace=True)"
   ]
  },
  {
   "cell_type": "code",
   "execution_count": 80,
   "metadata": {},
   "outputs": [
    {
     "data": {
      "text/html": [
       "<div>\n",
       "<style scoped>\n",
       "    .dataframe tbody tr th:only-of-type {\n",
       "        vertical-align: middle;\n",
       "    }\n",
       "\n",
       "    .dataframe tbody tr th {\n",
       "        vertical-align: top;\n",
       "    }\n",
       "\n",
       "    .dataframe thead th {\n",
       "        text-align: right;\n",
       "    }\n",
       "</style>\n",
       "<table border=\"1\" class=\"dataframe\">\n",
       "  <thead>\n",
       "    <tr style=\"text-align: right;\">\n",
       "      <th></th>\n",
       "      <th>0</th>\n",
       "      <th>1</th>\n",
       "      <th>2</th>\n",
       "      <th>3</th>\n",
       "      <th>4</th>\n",
       "    </tr>\n",
       "  </thead>\n",
       "  <tbody>\n",
       "    <tr>\n",
       "      <th>capacity_mw</th>\n",
       "      <td>2.5</td>\n",
       "      <td>98</td>\n",
       "      <td>39.2</td>\n",
       "      <td>135</td>\n",
       "      <td>1800</td>\n",
       "    </tr>\n",
       "    <tr>\n",
       "      <th>latitude</th>\n",
       "      <td>28.1839</td>\n",
       "      <td>24.7663</td>\n",
       "      <td>21.9038</td>\n",
       "      <td>23.8712</td>\n",
       "      <td>21.9603</td>\n",
       "    </tr>\n",
       "    <tr>\n",
       "      <th>longitude</th>\n",
       "      <td>73.2407</td>\n",
       "      <td>74.609</td>\n",
       "      <td>69.3732</td>\n",
       "      <td>91.3602</td>\n",
       "      <td>82.4091</td>\n",
       "    </tr>\n",
       "    <tr>\n",
       "      <th>primary_fuel</th>\n",
       "      <td>Solar</td>\n",
       "      <td>Coal</td>\n",
       "      <td>Wind</td>\n",
       "      <td>Gas</td>\n",
       "      <td>Coal</td>\n",
       "    </tr>\n",
       "    <tr>\n",
       "      <th>other_fuel1</th>\n",
       "      <td>NaN</td>\n",
       "      <td>NaN</td>\n",
       "      <td>NaN</td>\n",
       "      <td>NaN</td>\n",
       "      <td>Oil</td>\n",
       "    </tr>\n",
       "    <tr>\n",
       "      <th>commissioning_year</th>\n",
       "      <td>2011</td>\n",
       "      <td>NaN</td>\n",
       "      <td>NaN</td>\n",
       "      <td>2004</td>\n",
       "      <td>2015</td>\n",
       "    </tr>\n",
       "    <tr>\n",
       "      <th>owner</th>\n",
       "      <td>Solar Paces</td>\n",
       "      <td>Ultratech Cement ltd</td>\n",
       "      <td>AES</td>\n",
       "      <td>NaN</td>\n",
       "      <td>NaN</td>\n",
       "    </tr>\n",
       "    <tr>\n",
       "      <th>source</th>\n",
       "      <td>National Renewable Energy Laboratory</td>\n",
       "      <td>Ultratech Cement ltd</td>\n",
       "      <td>CDM</td>\n",
       "      <td>Central Electricity Authority</td>\n",
       "      <td>Central Electricity Authority</td>\n",
       "    </tr>\n",
       "    <tr>\n",
       "      <th>url</th>\n",
       "      <td>http://www.nrel.gov/csp/solarpaces/project_det...</td>\n",
       "      <td>http://www.ultratechcement.com/</td>\n",
       "      <td>https://cdm.unfccc.int/Projects/DB/DNV-CUK1328...</td>\n",
       "      <td>http://www.cea.nic.in/</td>\n",
       "      <td>http://www.cea.nic.in/</td>\n",
       "    </tr>\n",
       "    <tr>\n",
       "      <th>geolocation_source</th>\n",
       "      <td>National Renewable Energy Laboratory</td>\n",
       "      <td>WRI</td>\n",
       "      <td>WRI</td>\n",
       "      <td>WRI</td>\n",
       "      <td>WRI</td>\n",
       "    </tr>\n",
       "    <tr>\n",
       "      <th>generation_gwh_2013</th>\n",
       "      <td>NaN</td>\n",
       "      <td>NaN</td>\n",
       "      <td>NaN</td>\n",
       "      <td>631.778</td>\n",
       "      <td>1668.29</td>\n",
       "    </tr>\n",
       "    <tr>\n",
       "      <th>generation_gwh_2014</th>\n",
       "      <td>NaN</td>\n",
       "      <td>NaN</td>\n",
       "      <td>NaN</td>\n",
       "      <td>617.789</td>\n",
       "      <td>3035.55</td>\n",
       "    </tr>\n",
       "    <tr>\n",
       "      <th>generation_gwh_2015</th>\n",
       "      <td>NaN</td>\n",
       "      <td>NaN</td>\n",
       "      <td>NaN</td>\n",
       "      <td>843.747</td>\n",
       "      <td>5916.37</td>\n",
       "    </tr>\n",
       "    <tr>\n",
       "      <th>generation_gwh_2016</th>\n",
       "      <td>NaN</td>\n",
       "      <td>NaN</td>\n",
       "      <td>NaN</td>\n",
       "      <td>886.004</td>\n",
       "      <td>6243</td>\n",
       "    </tr>\n",
       "    <tr>\n",
       "      <th>generation_gwh_2017</th>\n",
       "      <td>NaN</td>\n",
       "      <td>NaN</td>\n",
       "      <td>NaN</td>\n",
       "      <td>663.774</td>\n",
       "      <td>5385.58</td>\n",
       "    </tr>\n",
       "    <tr>\n",
       "      <th>generation_data_source</th>\n",
       "      <td>NaN</td>\n",
       "      <td>NaN</td>\n",
       "      <td>NaN</td>\n",
       "      <td>Central Electricity Authority</td>\n",
       "      <td>Central Electricity Authority</td>\n",
       "    </tr>\n",
       "  </tbody>\n",
       "</table>\n",
       "</div>"
      ],
      "text/plain": [
       "                                                                        0  \\\n",
       "capacity_mw                                                           2.5   \n",
       "latitude                                                          28.1839   \n",
       "longitude                                                         73.2407   \n",
       "primary_fuel                                                        Solar   \n",
       "other_fuel1                                                           NaN   \n",
       "commissioning_year                                                   2011   \n",
       "owner                                                         Solar Paces   \n",
       "source                               National Renewable Energy Laboratory   \n",
       "url                     http://www.nrel.gov/csp/solarpaces/project_det...   \n",
       "geolocation_source                   National Renewable Energy Laboratory   \n",
       "generation_gwh_2013                                                   NaN   \n",
       "generation_gwh_2014                                                   NaN   \n",
       "generation_gwh_2015                                                   NaN   \n",
       "generation_gwh_2016                                                   NaN   \n",
       "generation_gwh_2017                                                   NaN   \n",
       "generation_data_source                                                NaN   \n",
       "\n",
       "                                                      1  \\\n",
       "capacity_mw                                          98   \n",
       "latitude                                        24.7663   \n",
       "longitude                                        74.609   \n",
       "primary_fuel                                       Coal   \n",
       "other_fuel1                                         NaN   \n",
       "commissioning_year                                  NaN   \n",
       "owner                              Ultratech Cement ltd   \n",
       "source                             Ultratech Cement ltd   \n",
       "url                     http://www.ultratechcement.com/   \n",
       "geolocation_source                                  WRI   \n",
       "generation_gwh_2013                                 NaN   \n",
       "generation_gwh_2014                                 NaN   \n",
       "generation_gwh_2015                                 NaN   \n",
       "generation_gwh_2016                                 NaN   \n",
       "generation_gwh_2017                                 NaN   \n",
       "generation_data_source                              NaN   \n",
       "\n",
       "                                                                        2  \\\n",
       "capacity_mw                                                          39.2   \n",
       "latitude                                                          21.9038   \n",
       "longitude                                                         69.3732   \n",
       "primary_fuel                                                         Wind   \n",
       "other_fuel1                                                           NaN   \n",
       "commissioning_year                                                    NaN   \n",
       "owner                                                                 AES   \n",
       "source                                                                CDM   \n",
       "url                     https://cdm.unfccc.int/Projects/DB/DNV-CUK1328...   \n",
       "geolocation_source                                                    WRI   \n",
       "generation_gwh_2013                                                   NaN   \n",
       "generation_gwh_2014                                                   NaN   \n",
       "generation_gwh_2015                                                   NaN   \n",
       "generation_gwh_2016                                                   NaN   \n",
       "generation_gwh_2017                                                   NaN   \n",
       "generation_data_source                                                NaN   \n",
       "\n",
       "                                                    3  \\\n",
       "capacity_mw                                       135   \n",
       "latitude                                      23.8712   \n",
       "longitude                                     91.3602   \n",
       "primary_fuel                                      Gas   \n",
       "other_fuel1                                       NaN   \n",
       "commissioning_year                               2004   \n",
       "owner                                             NaN   \n",
       "source                  Central Electricity Authority   \n",
       "url                            http://www.cea.nic.in/   \n",
       "geolocation_source                                WRI   \n",
       "generation_gwh_2013                           631.778   \n",
       "generation_gwh_2014                           617.789   \n",
       "generation_gwh_2015                           843.747   \n",
       "generation_gwh_2016                           886.004   \n",
       "generation_gwh_2017                           663.774   \n",
       "generation_data_source  Central Electricity Authority   \n",
       "\n",
       "                                                    4  \n",
       "capacity_mw                                      1800  \n",
       "latitude                                      21.9603  \n",
       "longitude                                     82.4091  \n",
       "primary_fuel                                     Coal  \n",
       "other_fuel1                                       Oil  \n",
       "commissioning_year                               2015  \n",
       "owner                                             NaN  \n",
       "source                  Central Electricity Authority  \n",
       "url                            http://www.cea.nic.in/  \n",
       "geolocation_source                                WRI  \n",
       "generation_gwh_2013                           1668.29  \n",
       "generation_gwh_2014                           3035.55  \n",
       "generation_gwh_2015                           5916.37  \n",
       "generation_gwh_2016                              6243  \n",
       "generation_gwh_2017                           5385.58  \n",
       "generation_data_source  Central Electricity Authority  "
      ]
     },
     "execution_count": 80,
     "metadata": {},
     "output_type": "execute_result"
    }
   ],
   "source": [
    "gpp.head().T"
   ]
  },
  {
   "cell_type": "code",
   "execution_count": 81,
   "metadata": {},
   "outputs": [],
   "source": [
    "#Imputing null values of categorical features with mode\n",
    "gpp['other_fuel1'].fillna(gpp['other_fuel1'].mode()[0],inplace=True)\n",
    "gpp['geolocation_source'].fillna(gpp['geolocation_source'].mode()[0],inplace=True)\n",
    "gpp['owner'].fillna(gpp['owner'].mode()[0],inplace=True)\n",
    "gpp['commissioning_year'].fillna(gpp['commissioning_year'].mode()[0],inplace=True)\n",
    "gpp['generation_data_source'].fillna(gpp['generation_data_source'].mode()[0],inplace=True)\n",
    "\n",
    "#filling the missing generation_gwh pers years to 0\n",
    "gpp.generation_gwh_2013=gpp.generation_gwh_2013.fillna(0)\n",
    "gpp.generation_gwh_2014=gpp.generation_gwh_2014.fillna(0)\n",
    "gpp.generation_gwh_2015=gpp.generation_gwh_2015.fillna(0)\n",
    "gpp.generation_gwh_2016=gpp.generation_gwh_2016.fillna(0)\n",
    "gpp.generation_gwh_2017=gpp.generation_gwh_2017.fillna(0)\n",
    "\n",
    "##Imputing null values of continues features with median\n",
    "gpp['latitude'].fillna(gpp['latitude'].median(),inplace=True)\n",
    "gpp['longitude'].fillna(gpp['longitude'].median(),inplace=True)"
   ]
  },
  {
   "cell_type": "code",
   "execution_count": 82,
   "metadata": {},
   "outputs": [
    {
     "data": {
      "text/plain": [
       "<AxesSubplot:>"
      ]
     },
     "execution_count": 82,
     "metadata": {},
     "output_type": "execute_result"
    },
    {
     "data": {
      "image/png": "[encoded data removed]",
      "text/plain": [
       "<Figure size 576x432 with 2 Axes>"
      ]
     },
     "metadata": {},
     "output_type": "display_data"
    }
   ],
   "source": [
    "#checking for null values now\n",
    "plt.figure(figsize=(8,6))\n",
    "sns.heatmap(gpp.isnull())"
   ]
  },
  {
   "cell_type": "markdown",
   "metadata": {},
   "source": [
    "All the null valuse are removed now."
   ]
  },
  {
   "cell_type": "code",
   "execution_count": 83,
   "metadata": {},
   "outputs": [],
   "source": [
    "from sklearn.preprocessing import LabelEncoder\n",
    "l=LabelEncoder()"
   ]
  },
  {
   "cell_type": "code",
   "execution_count": 84,
   "metadata": {},
   "outputs": [],
   "source": [
    "#We use Label encoder\n",
    "for i in gpp.columns:\n",
    "    if gpp[i].dtypes=='O':\n",
    "        gpp[i]=l.fit_transform(gpp[i].values.reshape(-1,1))"
   ]
  },
  {
   "cell_type": "markdown",
   "metadata": {},
   "source": [
    "### Removing Skewness"
   ]
  },
  {
   "cell_type": "code",
   "execution_count": 90,
   "metadata": {},
   "outputs": [
    {
     "name": "stdout",
     "output_type": "stream",
     "text": [
      "capacity_mw 3.1932573023446458\n",
      "latitude -0.16181051280512945\n",
      "longitude 1.150963154131737\n",
      "generation_gwh_2013 5.158052715741295\n",
      "generation_gwh_2014 4.989441061471033\n",
      "generation_gwh_2015 5.264211007281125\n",
      "generation_gwh_2016 4.988235364991261\n",
      "generation_gwh_2017 4.983065055041694\n"
     ]
    }
   ],
   "source": [
    "cont=['capacity_mw','latitude','longitude','generation_gwh_2013','generation_gwh_2014','generation_gwh_2015','generation_gwh_2016','generation_gwh_2017']\n",
    "for i in cont:\n",
    "    print(i,gpp[i].skew())"
   ]
  },
  {
   "cell_type": "code",
   "execution_count": 93,
   "metadata": {},
   "outputs": [],
   "source": [
    "#using Power transformer to remove skewness\n",
    "from sklearn.preprocessing import PowerTransformer\n",
    "pt=PowerTransformer()\n",
    "\n",
    "for i in cont:\n",
    "    if np.abs(gpp[i].skew())>0.5:\n",
    "        gpp[i]=pt.fit_transform(gpp[i].values.reshape(-1,1))"
   ]
  },
  {
   "cell_type": "code",
   "execution_count": 94,
   "metadata": {},
   "outputs": [
    {
     "data": {
      "image/png": "[encoded data removed]",
      "text/plain": [
       "<Figure size 432x288 with 1 Axes>"
      ]
     },
     "metadata": {},
     "output_type": "display_data"
    },
    {
     "data": {
      "image/png": "[encoded data removed]",
      "text/plain": [
       "<Figure size 432x288 with 1 Axes>"
      ]
     },
     "metadata": {},
     "output_type": "display_data"
    },
    {
     "data": {
      "image/png": "[encoded data removed]",
      "text/plain": [
       "<Figure size 432x288 with 1 Axes>"
      ]
     },
     "metadata": {},
     "output_type": "display_data"
    },
    {
     "data": {
      "image/png": "[encoded data removed]",
      "text/plain": [
       "<Figure size 432x288 with 1 Axes>"
      ]
     },
     "metadata": {},
     "output_type": "display_data"
    },
    {
     "data": {
      "image/png": "[encoded data removed]",
      "text/plain": [
       "<Figure size 432x288 with 1 Axes>"
      ]
     },
     "metadata": {},
     "output_type": "display_data"
    },
    {
     "data": {
      "image/png": "[encoded data removed]",
      "text/plain": [
       "<Figure size 432x288 with 1 Axes>"
      ]
     },
     "metadata": {},
     "output_type": "display_data"
    },
    {
     "data": {
      "image/png": "[encoded data removed]",
      "text/plain": [
       "<Figure size 432x288 with 1 Axes>"
      ]
     },
     "metadata": {},
     "output_type": "display_data"
    },
    {
     "data": {
      "image/png": "[encoded data removed]",
      "text/plain": [
       "<Figure size 432x288 with 1 Axes>"
      ]
     },
     "metadata": {},
     "output_type": "display_data"
    },
    {
     "data": {
      "text/plain": [
       "<Figure size 432x288 with 0 Axes>"
      ]
     },
     "metadata": {},
     "output_type": "display_data"
    }
   ],
   "source": [
    "#checking skewness after removing\n",
    "for i in cont:\n",
    "    sns.distplot(gpp[i])\n",
    "    plt.figure()\n"
   ]
  },
  {
   "cell_type": "markdown",
   "metadata": {},
   "source": [
    "A lot of skewness has been resuced but we cannot remove skewness more than this."
   ]
  },
  {
   "cell_type": "markdown",
   "metadata": {},
   "source": [
    "### Preparing the variables with respect to primary_fuel"
   ]
  },
  {
   "cell_type": "code",
   "execution_count": 95,
   "metadata": {},
   "outputs": [],
   "source": [
    "#Separating dependent and independent features.\n",
    "x=gpp.copy()\n",
    "x.drop('primary_fuel',axis=1,inplace=True)\n",
    "y=gpp['primary_fuel']"
   ]
  },
  {
   "cell_type": "markdown",
   "metadata": {},
   "source": [
    "## Scaling the data"
   ]
  },
  {
   "cell_type": "code",
   "execution_count": 96,
   "metadata": {},
   "outputs": [],
   "source": [
    "#Scaling the data using min max scaler\n",
    "from sklearn.preprocessing import MinMaxScaler\n",
    "scaler=MinMaxScaler()"
   ]
  },
  {
   "cell_type": "code",
   "execution_count": 97,
   "metadata": {},
   "outputs": [],
   "source": [
    "xd=scaler.fit_transform(x)\n",
    "x=pd.DataFrame(xd,columns=x.columns)"
   ]
  },
  {
   "cell_type": "markdown",
   "metadata": {},
   "source": [
    "# Building Machine Learning Models w.r.t primary_fuel"
   ]
  },
  {
   "cell_type": "markdown",
   "metadata": {},
   "source": [
    "Importing Libraries"
   ]
  },
  {
   "cell_type": "code",
   "execution_count": 98,
   "metadata": {},
   "outputs": [],
   "source": [
    "from sklearn.model_selection import train_test_split,cross_val_score\n",
    "\n",
    "#importing models\n",
    "from sklearn.neighbors import KNeighborsRegressor\n",
    "from sklearn.linear_model import LinearRegression,Lasso,Ridge,ElasticNet\n",
    "from sklearn.svm import SVR\n",
    "from sklearn.tree import DecisionTreeRegressor\n",
    "from sklearn.ensemble import RandomForestRegressor,AdaBoostRegressor,GradientBoostingRegressor\n",
    "from xgboost import XGBRegressor"
   ]
  },
  {
   "cell_type": "code",
   "execution_count": 99,
   "metadata": {},
   "outputs": [],
   "source": [
    "#importing metrics\n",
    "from sklearn.metrics import r2_score,mean_absolute_error,mean_squared_error,accuracy_score,confusion_matrix,classification_report,roc_auc_score,roc_curve"
   ]
  },
  {
   "cell_type": "code",
   "execution_count": 100,
   "metadata": {},
   "outputs": [],
   "source": [
    "#Choosing the best random state using Logistic regression\n",
    "def randomstate(a,b):\n",
    "    maxx=1000\n",
    "    for state in range(1,201):\n",
    "        xtrain,xtest,ytrain,ytest=train_test_split(a,b,test_size=0.25,random_state=state)\n",
    "        model=LinearRegression()\n",
    "        model.fit(xtrain,ytrain)\n",
    "        p=model.predict(xtest)\n",
    "        mse=mean_squared_error(p,ytest)\n",
    "        if maxx>mse:\n",
    "            maxx=mse\n",
    "            j=state\n",
    "    return j"
   ]
  },
  {
   "cell_type": "code",
   "execution_count": 101,
   "metadata": {},
   "outputs": [],
   "source": [
    "#Creating list of models and another list mapped to their names\n",
    "models=[KNeighborsRegressor(),SVR(),LinearRegression(),Lasso(),Ridge(),ElasticNet(),DecisionTreeRegressor(),\n",
    "       RandomForestRegressor(),AdaBoostRegressor(),GradientBoostingRegressor(),XGBRegressor()]\n",
    "\n",
    "names=['KNeighborsRegressor','SVR','LinearRegression','Lasso','Ridge','ElasticNet','DecisionTreeRegressor',\n",
    "       'RandomForestRegressor','AdaBoostRegressor','GradientBoostingRegressor','XGBRegressor']"
   ]
  },
  {
   "cell_type": "code",
   "execution_count": 104,
   "metadata": {},
   "outputs": [],
   "source": [
    "#Creating methord for the models and appending them to data frame\n",
    "\n",
    "def createmodels(model_list,independent,dependent,n):\n",
    "    xtrain,xtest,ytrain,ytest=train_test_split(independent,dependent,test_size=0.25,random_state=randomstate(independent,dependent))\n",
    "    name=[]\n",
    "    meanabs=[]\n",
    "    meansqd=[]\n",
    "    rootmeansqd=[]\n",
    "    r2=[]\n",
    "    mcv=[]\n",
    "    \n",
    "    #Creating models\n",
    "    for i,model in enumerate(model_list):\n",
    "        model.fit(xtrain,ytrain)\n",
    "        p=model.predict(xtest)\n",
    "        score=cross_val_score(model,independent,dependent,cv=10)\n",
    "        \n",
    "        #Calculating scores of the model and appending them to a list\n",
    "        name.append(n[i])\n",
    "        meanabs.append(np.round(mean_absolute_error(p,ytest),4))\n",
    "        meansqd.append(np.round(mean_squared_error(p,ytest),4))\n",
    "        rootmeansqd.append(np.round(np.sqrt(mean_squared_error(p,ytest)),4))\n",
    "        r2.append(np.round(r2_score(p,ytest),2))\n",
    "        mcv.append(np.round(np.mean(score),4))\n",
    "    \n",
    "    #Creating Dataframe\n",
    "    data=pd.DataFrame()\n",
    "    data['Model']=name\n",
    "    data['Mean Absolute Error']=meanabs\n",
    "    data['Mean Squared Error']=meansqd\n",
    "    data['Root Mean Squared Error']=rootmeansqd\n",
    "    data['R2 Score']=r2\n",
    "    data['Mean of Cross validaton Score']=mcv\n",
    "    data.set_index('Model',inplace = True)\n",
    "    return data"
   ]
  },
  {
   "cell_type": "code",
   "execution_count": 105,
   "metadata": {},
   "outputs": [
    {
     "data": {
      "text/html": [
       "<div>\n",
       "<style scoped>\n",
       "    .dataframe tbody tr th:only-of-type {\n",
       "        vertical-align: middle;\n",
       "    }\n",
       "\n",
       "    .dataframe tbody tr th {\n",
       "        vertical-align: top;\n",
       "    }\n",
       "\n",
       "    .dataframe thead th {\n",
       "        text-align: right;\n",
       "    }\n",
       "</style>\n",
       "<table border=\"1\" class=\"dataframe\">\n",
       "  <thead>\n",
       "    <tr style=\"text-align: right;\">\n",
       "      <th></th>\n",
       "      <th>Mean Absolute Error</th>\n",
       "      <th>Mean Squared Error</th>\n",
       "      <th>Root Mean Squared Error</th>\n",
       "      <th>R2 Score</th>\n",
       "      <th>Mean of Cross validaton Score</th>\n",
       "    </tr>\n",
       "    <tr>\n",
       "      <th>Model</th>\n",
       "      <th></th>\n",
       "      <th></th>\n",
       "      <th></th>\n",
       "      <th></th>\n",
       "      <th></th>\n",
       "    </tr>\n",
       "  </thead>\n",
       "  <tbody>\n",
       "    <tr>\n",
       "      <th>KNeighborsRegressor</th>\n",
       "      <td>0.4141</td>\n",
       "      <td>0.5441</td>\n",
       "      <td>0.7377</td>\n",
       "      <td>8.800000e-01</td>\n",
       "      <td>0.8580</td>\n",
       "    </tr>\n",
       "    <tr>\n",
       "      <th>SVR</th>\n",
       "      <td>0.5617</td>\n",
       "      <td>0.6548</td>\n",
       "      <td>0.8092</td>\n",
       "      <td>8.400000e-01</td>\n",
       "      <td>0.7919</td>\n",
       "    </tr>\n",
       "    <tr>\n",
       "      <th>LinearRegression</th>\n",
       "      <td>0.7770</td>\n",
       "      <td>0.9897</td>\n",
       "      <td>0.9948</td>\n",
       "      <td>7.000000e-01</td>\n",
       "      <td>0.7004</td>\n",
       "    </tr>\n",
       "    <tr>\n",
       "      <th>Lasso</th>\n",
       "      <td>1.9345</td>\n",
       "      <td>5.2170</td>\n",
       "      <td>2.2841</td>\n",
       "      <td>-2.645313e+31</td>\n",
       "      <td>-0.0742</td>\n",
       "    </tr>\n",
       "    <tr>\n",
       "      <th>Ridge</th>\n",
       "      <td>0.7912</td>\n",
       "      <td>1.0159</td>\n",
       "      <td>1.0079</td>\n",
       "      <td>6.800000e-01</td>\n",
       "      <td>0.7027</td>\n",
       "    </tr>\n",
       "    <tr>\n",
       "      <th>ElasticNet</th>\n",
       "      <td>1.9345</td>\n",
       "      <td>5.2170</td>\n",
       "      <td>2.2841</td>\n",
       "      <td>-2.645313e+31</td>\n",
       "      <td>-0.0742</td>\n",
       "    </tr>\n",
       "    <tr>\n",
       "      <th>DecisionTreeRegressor</th>\n",
       "      <td>0.4273</td>\n",
       "      <td>1.0705</td>\n",
       "      <td>1.0346</td>\n",
       "      <td>7.900000e-01</td>\n",
       "      <td>0.8107</td>\n",
       "    </tr>\n",
       "    <tr>\n",
       "      <th>RandomForestRegressor</th>\n",
       "      <td>0.3364</td>\n",
       "      <td>0.3559</td>\n",
       "      <td>0.5965</td>\n",
       "      <td>9.200000e-01</td>\n",
       "      <td>0.8928</td>\n",
       "    </tr>\n",
       "    <tr>\n",
       "      <th>AdaBoostRegressor</th>\n",
       "      <td>0.7235</td>\n",
       "      <td>0.9339</td>\n",
       "      <td>0.9664</td>\n",
       "      <td>7.200000e-01</td>\n",
       "      <td>0.8120</td>\n",
       "    </tr>\n",
       "    <tr>\n",
       "      <th>GradientBoostingRegressor</th>\n",
       "      <td>0.4505</td>\n",
       "      <td>0.4783</td>\n",
       "      <td>0.6916</td>\n",
       "      <td>8.900000e-01</td>\n",
       "      <td>0.8871</td>\n",
       "    </tr>\n",
       "    <tr>\n",
       "      <th>XGBRegressor</th>\n",
       "      <td>0.4065</td>\n",
       "      <td>0.4744</td>\n",
       "      <td>0.6888</td>\n",
       "      <td>9.000000e-01</td>\n",
       "      <td>0.8798</td>\n",
       "    </tr>\n",
       "  </tbody>\n",
       "</table>\n",
       "</div>"
      ],
      "text/plain": [
       "                           Mean Absolute Error  Mean Squared Error  \\\n",
       "Model                                                                \n",
       "KNeighborsRegressor                     0.4141              0.5441   \n",
       "SVR                                     0.5617              0.6548   \n",
       "LinearRegression                        0.7770              0.9897   \n",
       "Lasso                                   1.9345              5.2170   \n",
       "Ridge                                   0.7912              1.0159   \n",
       "ElasticNet                              1.9345              5.2170   \n",
       "DecisionTreeRegressor                   0.4273              1.0705   \n",
       "RandomForestRegressor                   0.3364              0.3559   \n",
       "AdaBoostRegressor                       0.7235              0.9339   \n",
       "GradientBoostingRegressor               0.4505              0.4783   \n",
       "XGBRegressor                            0.4065              0.4744   \n",
       "\n",
       "                           Root Mean Squared Error      R2 Score  \\\n",
       "Model                                                              \n",
       "KNeighborsRegressor                         0.7377  8.800000e-01   \n",
       "SVR                                         0.8092  8.400000e-01   \n",
       "LinearRegression                            0.9948  7.000000e-01   \n",
       "Lasso                                       2.2841 -2.645313e+31   \n",
       "Ridge                                       1.0079  6.800000e-01   \n",
       "ElasticNet                                  2.2841 -2.645313e+31   \n",
       "DecisionTreeRegressor                       1.0346  7.900000e-01   \n",
       "RandomForestRegressor                       0.5965  9.200000e-01   \n",
       "AdaBoostRegressor                           0.9664  7.200000e-01   \n",
       "GradientBoostingRegressor                   0.6916  8.900000e-01   \n",
       "XGBRegressor                                0.6888  9.000000e-01   \n",
       "\n",
       "                           Mean of Cross validaton Score  \n",
       "Model                                                     \n",
       "KNeighborsRegressor                               0.8580  \n",
       "SVR                                               0.7919  \n",
       "LinearRegression                                  0.7004  \n",
       "Lasso                                            -0.0742  \n",
       "Ridge                                             0.7027  \n",
       "ElasticNet                                       -0.0742  \n",
       "DecisionTreeRegressor                             0.8107  \n",
       "RandomForestRegressor                             0.8928  \n",
       "AdaBoostRegressor                                 0.8120  \n",
       "GradientBoostingRegressor                         0.8871  \n",
       "XGBRegressor                                      0.8798  "
      ]
     },
     "execution_count": 105,
     "metadata": {},
     "output_type": "execute_result"
    }
   ],
   "source": [
    "createmodels(models,x,y,names)"
   ]
  },
  {
   "cell_type": "markdown",
   "metadata": {},
   "source": [
    "Random Forest, Gradient Boost, Xtreme Gradient Boost give us the best performance, so we further try hyperparameter tuning on them"
   ]
  },
  {
   "cell_type": "markdown",
   "metadata": {},
   "source": [
    "## Hyperparameter Tuning"
   ]
  },
  {
   "cell_type": "code",
   "execution_count": 108,
   "metadata": {},
   "outputs": [],
   "source": [
    "from sklearn.model_selection import GridSearchCV\n",
    "from sklearn.model_selection import RandomizedSearchCV"
   ]
  },
  {
   "cell_type": "code",
   "execution_count": 109,
   "metadata": {},
   "outputs": [],
   "source": [
    "xtrain,xtest,ytrain,ytest=train_test_split(x,y,test_size=0.25,random_state=randomstate(x,y))"
   ]
  },
  {
   "cell_type": "markdown",
   "metadata": {},
   "source": [
    "### Random Forest"
   ]
  },
  {
   "cell_type": "code",
   "execution_count": 110,
   "metadata": {},
   "outputs": [
    {
     "data": {
      "text/plain": [
       "RandomizedSearchCV(cv=10, estimator=RandomForestRegressor(),\n",
       "                   param_distributions={'max_depth': [None, 1, 2, 3, 4, 5, 6, 7,\n",
       "                                                      8],\n",
       "                                        'min_samples_leaf': [1, 2, 3, 4],\n",
       "                                        'min_samples_split': [1, 2, 3, 4],\n",
       "                                        'n_estimators': [100, 300, 500, 700]})"
      ]
     },
     "execution_count": 110,
     "metadata": {},
     "output_type": "execute_result"
    }
   ],
   "source": [
    "params={'n_estimators':[100, 300, 500, 700],\n",
    "        'min_samples_split':[1,2,3,4],\n",
    "        'min_samples_leaf':[1,2,3,4],\n",
    "            'max_depth':[None,1,2,3,4,5,6,7,8]}\n",
    "\n",
    "g=RandomizedSearchCV(RandomForestRegressor(),params,cv=10)\n",
    "\n",
    "g.fit(xtrain,ytrain)"
   ]
  },
  {
   "cell_type": "code",
   "execution_count": 111,
   "metadata": {},
   "outputs": [
    {
     "name": "stdout",
     "output_type": "stream",
     "text": [
      "RandomForestRegressor(min_samples_leaf=3, min_samples_split=3, n_estimators=700)\n",
      "{'n_estimators': 700, 'min_samples_split': 3, 'min_samples_leaf': 3, 'max_depth': None}\n",
      "0.8654205408564712\n"
     ]
    }
   ],
   "source": [
    "print(g.best_estimator_)\n",
    "print(g.best_params_)\n",
    "print(g.best_score_)"
   ]
  },
  {
   "cell_type": "code",
   "execution_count": 112,
   "metadata": {},
   "outputs": [],
   "source": [
    "m=RandomForestRegressor(min_samples_leaf=3, min_samples_split=3,n_estimators=700)\n",
    "m.fit(xtrain,ytrain)\n",
    "p=m.predict(xtest)\n",
    "score=cross_val_score(m,x,y,cv=10)"
   ]
  },
  {
   "cell_type": "code",
   "execution_count": 114,
   "metadata": {},
   "outputs": [
    {
     "name": "stdout",
     "output_type": "stream",
     "text": [
      "Mean Absolute Error is 0.3529\n",
      "Mean Squared Error is 0.3818\n",
      "Root Mean Squared Error is 0.6179\n",
      "R2 Score is 91.46\n",
      "Mean of cross validaton Score is 88.5018\n"
     ]
    }
   ],
   "source": [
    "print('Mean Absolute Error is',np.round(mean_absolute_error(p,ytest),4))\n",
    "print('Mean Squared Error is',np.round(mean_squared_error(p,ytest),4))\n",
    "print('Root Mean Squared Error is',np.round(np.sqrt(mean_squared_error(p,ytest)),4))\n",
    "print('R2 Score is',np.round(r2_score(p,ytest),4)*100)\n",
    "print('Mean of cross validaton Score is',np.round(np.mean(score)*100,4))"
   ]
  },
  {
   "cell_type": "markdown",
   "metadata": {},
   "source": [
    "### GradientBoostingRegressor"
   ]
  },
  {
   "cell_type": "code",
   "execution_count": 116,
   "metadata": {},
   "outputs": [
    {
     "data": {
      "text/plain": [
       "RandomizedSearchCV(cv=10, estimator=GradientBoostingRegressor(),\n",
       "                   param_distributions={'max_depth': [6, 7, 8, 9, 10, None],\n",
       "                                        'subsample': [0.5, 1]})"
      ]
     },
     "execution_count": 116,
     "metadata": {},
     "output_type": "execute_result"
    }
   ],
   "source": [
    "params={'subsample':[0.5,1],\n",
    "      'max_depth':[6,7,8,9,10,None]}\n",
    "\n",
    "g=RandomizedSearchCV(GradientBoostingRegressor(),params,cv=10)\n",
    "\n",
    "g.fit(xtrain,ytrain)"
   ]
  },
  {
   "cell_type": "code",
   "execution_count": 117,
   "metadata": {},
   "outputs": [
    {
     "name": "stdout",
     "output_type": "stream",
     "text": [
      "{'subsample': 0.5, 'max_depth': 10}\n",
      "GradientBoostingRegressor(max_depth=10, subsample=0.5)\n",
      "0.8915492696819228\n"
     ]
    }
   ],
   "source": [
    "print(g.best_params_)\n",
    "print(g.best_estimator_)\n",
    "print(g.best_score_)"
   ]
  },
  {
   "cell_type": "code",
   "execution_count": 118,
   "metadata": {},
   "outputs": [],
   "source": [
    "m=GradientBoostingRegressor(max_depth=10, subsample=0.5)\n",
    "m.fit(xtrain,ytrain)\n",
    "p=m.predict(xtest)\n",
    "score=cross_val_score(m,x,y,cv=10)"
   ]
  },
  {
   "cell_type": "code",
   "execution_count": 119,
   "metadata": {},
   "outputs": [
    {
     "name": "stdout",
     "output_type": "stream",
     "text": [
      "Mean Absolute Error is 0.3615\n",
      "Mean Squared Error is 0.3554\n",
      "Root Mean Squared Error is 0.5961\n",
      "R2 Score is 92.41\n",
      "Mean of cross validaton Score is 88.6185\n"
     ]
    }
   ],
   "source": [
    "print('Mean Absolute Error is',np.round(mean_absolute_error(p,ytest),4))\n",
    "print('Mean Squared Error is',np.round(mean_squared_error(p,ytest),4))\n",
    "print('Root Mean Squared Error is',np.round(np.sqrt(mean_squared_error(p,ytest)),4))\n",
    "print('R2 Score is',np.round(r2_score(p,ytest),4)*100)\n",
    "print('Mean of cross validaton Score is',np.round(np.mean(score)*100,4))"
   ]
  },
  {
   "cell_type": "markdown",
   "metadata": {},
   "source": [
    "#### XGBRegressor"
   ]
  },
  {
   "cell_type": "code",
   "execution_count": 120,
   "metadata": {},
   "outputs": [
    {
     "data": {
      "text/plain": [
       "RandomizedSearchCV(cv=10,\n",
       "                   estimator=XGBRegressor(base_score=None, booster=None,\n",
       "                                          colsample_bylevel=None,\n",
       "                                          colsample_bynode=None,\n",
       "                                          colsample_bytree=None, gamma=None,\n",
       "                                          gpu_id=None, importance_type='gain',\n",
       "                                          interaction_constraints=None,\n",
       "                                          learning_rate=None,\n",
       "                                          max_delta_step=None, max_depth=None,\n",
       "                                          min_child_weight=None, missing=nan,\n",
       "                                          monotone_constraints=None,\n",
       "                                          n_estimators=100,...one,\n",
       "                                          num_parallel_tree=None,\n",
       "                                          random_state=None, reg_alpha=None,\n",
       "                                          reg_lambda=None,\n",
       "                                          scale_pos_weight=None, subsample=None,\n",
       "                                          tree_method=None,\n",
       "                                          validate_parameters=None,\n",
       "                                          verbosity=0),\n",
       "                   param_distributions={'colsample_bytree': [0.3, 0.4, 0.5,\n",
       "                                                             0.7],\n",
       "                                        'gamma': [0.0, 0.1, 0.2, 0.3, 0.4],\n",
       "                                        'learning_rate': [0.001, 0.05, 0.1],\n",
       "                                        'max_depth': [4, 5, 6, 8, 10, 12, 15],\n",
       "                                        'min_child_weight': [1, 3, 5, 7]})"
      ]
     },
     "execution_count": 120,
     "metadata": {},
     "output_type": "execute_result"
    }
   ],
   "source": [
    "params={\n",
    " \"learning_rate\"    : [0.001,0.05, 0.10, ] ,\n",
    " \"max_depth\"        : [ 4, 5, 6, 8, 10, 12, 15],\n",
    " \"min_child_weight\" : [ 1, 3, 5, 7 ],\n",
    " \"gamma\"            : [ 0.0, 0.1, 0.2 , 0.3, 0.4 ],\n",
    " \"colsample_bytree\" : [ 0.3, 0.4, 0.5 , 0.7 ]\n",
    "    }\n",
    "\n",
    "g=RandomizedSearchCV(XGBRegressor(verbosity=0),params,cv=10)\n",
    "\n",
    "g.fit(xtrain,ytrain)"
   ]
  },
  {
   "cell_type": "code",
   "execution_count": 121,
   "metadata": {},
   "outputs": [
    {
     "name": "stdout",
     "output_type": "stream",
     "text": [
      "XGBRegressor(base_score=0.5, booster='gbtree', colsample_bylevel=1,\n",
      "             colsample_bynode=1, colsample_bytree=0.7, gamma=0.3, gpu_id=-1,\n",
      "             importance_type='gain', interaction_constraints='',\n",
      "             learning_rate=0.1, max_delta_step=0, max_depth=15,\n",
      "             min_child_weight=7, missing=nan, monotone_constraints='()',\n",
      "             n_estimators=100, n_jobs=4, num_parallel_tree=1, random_state=0,\n",
      "             reg_alpha=0, reg_lambda=1, scale_pos_weight=1, subsample=1,\n",
      "             tree_method='exact', validate_parameters=1, verbosity=0)\n",
      "{'min_child_weight': 7, 'max_depth': 15, 'learning_rate': 0.1, 'gamma': 0.3, 'colsample_bytree': 0.7}\n",
      "0.8803144368911212\n"
     ]
    }
   ],
   "source": [
    "print(g.best_estimator_)\n",
    "print(g.best_params_)\n",
    "print(g.best_score_)"
   ]
  },
  {
   "cell_type": "code",
   "execution_count": 122,
   "metadata": {},
   "outputs": [],
   "source": [
    "m=XGBRegressor(colsample_bytree=0.7,gamma=0.3,learning_rate=0.1,max_depth=15,min_child_weight=7)\n",
    "m.fit(xtrain,ytrain)\n",
    "p=m.predict(xtest)\n",
    "score=cross_val_score(m,x,y,cv=10)"
   ]
  },
  {
   "cell_type": "code",
   "execution_count": 123,
   "metadata": {},
   "outputs": [
    {
     "name": "stdout",
     "output_type": "stream",
     "text": [
      "Mean Absolute Error is 0.4666\n",
      "Mean Squared Error is 0.4847\n",
      "Root Mean Squared Error is 0.6962\n",
      "R2 Score is 88.2\n",
      "Mean of cross validaton Score is 88.8744\n"
     ]
    }
   ],
   "source": [
    "print('Mean Absolute Error is',np.round(mean_absolute_error(p,ytest),4))\n",
    "print('Mean Squared Error is',np.round(mean_squared_error(p,ytest),4))\n",
    "print('Root Mean Squared Error is',np.round(np.sqrt(mean_squared_error(p,ytest)),4))\n",
    "print('R2 Score is',np.round(r2_score(p,ytest),4)*100)\n",
    "print('Mean of cross validaton Score is',np.round(np.mean(score)*100,4))"
   ]
  },
  {
   "cell_type": "markdown",
   "metadata": {},
   "source": [
    "GradientBoostingRegressor is giving the best performance with minimum error compared to all the models, so we choose it as out final model."
   ]
  },
  {
   "cell_type": "markdown",
   "metadata": {},
   "source": [
    "# Finalizing the Model"
   ]
  },
  {
   "cell_type": "code",
   "execution_count": 127,
   "metadata": {},
   "outputs": [],
   "source": [
    "model1=GradientBoostingRegressor(max_depth=10, subsample=0.5)\n",
    "model1.fit(xtrain,ytrain)\n",
    "p1=model1.predict(xtest)\n",
    "score1=cross_val_score(model1,x,y,cv=10)"
   ]
  },
  {
   "cell_type": "markdown",
   "metadata": {},
   "source": [
    "### Evaluation Metrics"
   ]
  },
  {
   "cell_type": "code",
   "execution_count": 128,
   "metadata": {},
   "outputs": [
    {
     "name": "stdout",
     "output_type": "stream",
     "text": [
      "Mean Absolute Error is 0.3463\n",
      "Mean Squared Error is 0.3572\n",
      "Root Mean Squared Error is 0.5976\n",
      "R2 Score is 92.28\n",
      "Mean of cross validaton Score is 88.8744\n"
     ]
    }
   ],
   "source": [
    "print('Mean Absolute Error is',np.round(mean_absolute_error(p1,ytest),4))\n",
    "print('Mean Squared Error is',np.round(mean_squared_error(p1,ytest),4))\n",
    "print('Root Mean Squared Error is',np.round(np.sqrt(mean_squared_error(p1,ytest)),4))\n",
    "print('R2 Score is',np.round(r2_score(p1,ytest),4)*100)\n",
    "print('Mean of cross validaton Score is',np.round(np.mean(score)*100,4))"
   ]
  },
  {
   "cell_type": "code",
   "execution_count": 129,
   "metadata": {},
   "outputs": [
    {
     "data": {
      "text/plain": [
       "Text(0.5, 1.0, 'GradientBoostingRegressor')"
      ]
     },
     "execution_count": 129,
     "metadata": {},
     "output_type": "execute_result"
    },
    {
     "data": {
      "image/png": "[encoded data removed]",
      "text/plain": [
       "<Figure size 432x288 with 1 Axes>"
      ]
     },
     "metadata": {},
     "output_type": "display_data"
    }
   ],
   "source": [
    "plt.scatter(x=ytest,y=p1,color='g')\n",
    "plt.plot(ytest,ytest,color='k')\n",
    "plt.xlabel('Actual Primary fuel')\n",
    "plt.ylabel('Predicted Primary fuel')\n",
    "plt.title('GradientBoostingRegressor')"
   ]
  },
  {
   "cell_type": "markdown",
   "metadata": {},
   "source": [
    "### Preparing the variables with respect to capacity_mw"
   ]
  },
  {
   "cell_type": "code",
   "execution_count": 130,
   "metadata": {},
   "outputs": [],
   "source": [
    "#Separating dependent and independent features with respect to capacity_mw.\n",
    "x=gpp.copy()\n",
    "x.drop('capacity_mw',axis=1,inplace=True)\n",
    "y=gpp['capacity_mw']"
   ]
  },
  {
   "cell_type": "code",
   "execution_count": 131,
   "metadata": {},
   "outputs": [],
   "source": [
    "#Scaling the data using min max scaler\n",
    "xd=scaler.fit_transform(x)\n",
    "x=pd.DataFrame(xd,columns=x.columns)"
   ]
  },
  {
   "cell_type": "markdown",
   "metadata": {},
   "source": [
    "## Building Machine Learning Models w.r.t capacity_mw"
   ]
  },
  {
   "cell_type": "code",
   "execution_count": 132,
   "metadata": {},
   "outputs": [
    {
     "data": {
      "text/html": [
       "<div>\n",
       "<style scoped>\n",
       "    .dataframe tbody tr th:only-of-type {\n",
       "        vertical-align: middle;\n",
       "    }\n",
       "\n",
       "    .dataframe tbody tr th {\n",
       "        vertical-align: top;\n",
       "    }\n",
       "\n",
       "    .dataframe thead th {\n",
       "        text-align: right;\n",
       "    }\n",
       "</style>\n",
       "<table border=\"1\" class=\"dataframe\">\n",
       "  <thead>\n",
       "    <tr style=\"text-align: right;\">\n",
       "      <th></th>\n",
       "      <th>Mean Absolute Error</th>\n",
       "      <th>Mean Squared Error</th>\n",
       "      <th>Root Mean Squared Error</th>\n",
       "      <th>R2 Score</th>\n",
       "      <th>Mean of Cross validaton Score</th>\n",
       "    </tr>\n",
       "    <tr>\n",
       "      <th>Model</th>\n",
       "      <th></th>\n",
       "      <th></th>\n",
       "      <th></th>\n",
       "      <th></th>\n",
       "      <th></th>\n",
       "    </tr>\n",
       "  </thead>\n",
       "  <tbody>\n",
       "    <tr>\n",
       "      <th>KNeighborsRegressor</th>\n",
       "      <td>0.3233</td>\n",
       "      <td>0.1922</td>\n",
       "      <td>0.4384</td>\n",
       "      <td>7.500000e-01</td>\n",
       "      <td>0.7199</td>\n",
       "    </tr>\n",
       "    <tr>\n",
       "      <th>SVR</th>\n",
       "      <td>0.3058</td>\n",
       "      <td>0.1746</td>\n",
       "      <td>0.4179</td>\n",
       "      <td>7.700000e-01</td>\n",
       "      <td>0.7707</td>\n",
       "    </tr>\n",
       "    <tr>\n",
       "      <th>LinearRegression</th>\n",
       "      <td>0.3791</td>\n",
       "      <td>0.2297</td>\n",
       "      <td>0.4793</td>\n",
       "      <td>6.900000e-01</td>\n",
       "      <td>0.7022</td>\n",
       "    </tr>\n",
       "    <tr>\n",
       "      <th>Lasso</th>\n",
       "      <td>0.7722</td>\n",
       "      <td>0.8526</td>\n",
       "      <td>0.9234</td>\n",
       "      <td>-1.133330e+36</td>\n",
       "      <td>-0.0216</td>\n",
       "    </tr>\n",
       "    <tr>\n",
       "      <th>Ridge</th>\n",
       "      <td>0.3806</td>\n",
       "      <td>0.2306</td>\n",
       "      <td>0.4802</td>\n",
       "      <td>6.800000e-01</td>\n",
       "      <td>0.7107</td>\n",
       "    </tr>\n",
       "    <tr>\n",
       "      <th>ElasticNet</th>\n",
       "      <td>0.7722</td>\n",
       "      <td>0.8526</td>\n",
       "      <td>0.9234</td>\n",
       "      <td>-1.133330e+36</td>\n",
       "      <td>-0.0216</td>\n",
       "    </tr>\n",
       "    <tr>\n",
       "      <th>DecisionTreeRegressor</th>\n",
       "      <td>0.3506</td>\n",
       "      <td>0.2719</td>\n",
       "      <td>0.5214</td>\n",
       "      <td>6.900000e-01</td>\n",
       "      <td>0.6434</td>\n",
       "    </tr>\n",
       "    <tr>\n",
       "      <th>RandomForestRegressor</th>\n",
       "      <td>0.2617</td>\n",
       "      <td>0.1292</td>\n",
       "      <td>0.3594</td>\n",
       "      <td>8.300000e-01</td>\n",
       "      <td>0.7967</td>\n",
       "    </tr>\n",
       "    <tr>\n",
       "      <th>AdaBoostRegressor</th>\n",
       "      <td>0.3409</td>\n",
       "      <td>0.1943</td>\n",
       "      <td>0.4407</td>\n",
       "      <td>7.000000e-01</td>\n",
       "      <td>0.7510</td>\n",
       "    </tr>\n",
       "    <tr>\n",
       "      <th>GradientBoostingRegressor</th>\n",
       "      <td>0.2804</td>\n",
       "      <td>0.1496</td>\n",
       "      <td>0.3868</td>\n",
       "      <td>8.100000e-01</td>\n",
       "      <td>0.7885</td>\n",
       "    </tr>\n",
       "    <tr>\n",
       "      <th>XGBRegressor</th>\n",
       "      <td>0.2817</td>\n",
       "      <td>0.1437</td>\n",
       "      <td>0.3791</td>\n",
       "      <td>8.300000e-01</td>\n",
       "      <td>0.7775</td>\n",
       "    </tr>\n",
       "  </tbody>\n",
       "</table>\n",
       "</div>"
      ],
      "text/plain": [
       "                           Mean Absolute Error  Mean Squared Error  \\\n",
       "Model                                                                \n",
       "KNeighborsRegressor                     0.3233              0.1922   \n",
       "SVR                                     0.3058              0.1746   \n",
       "LinearRegression                        0.3791              0.2297   \n",
       "Lasso                                   0.7722              0.8526   \n",
       "Ridge                                   0.3806              0.2306   \n",
       "ElasticNet                              0.7722              0.8526   \n",
       "DecisionTreeRegressor                   0.3506              0.2719   \n",
       "RandomForestRegressor                   0.2617              0.1292   \n",
       "AdaBoostRegressor                       0.3409              0.1943   \n",
       "GradientBoostingRegressor               0.2804              0.1496   \n",
       "XGBRegressor                            0.2817              0.1437   \n",
       "\n",
       "                           Root Mean Squared Error      R2 Score  \\\n",
       "Model                                                              \n",
       "KNeighborsRegressor                         0.4384  7.500000e-01   \n",
       "SVR                                         0.4179  7.700000e-01   \n",
       "LinearRegression                            0.4793  6.900000e-01   \n",
       "Lasso                                       0.9234 -1.133330e+36   \n",
       "Ridge                                       0.4802  6.800000e-01   \n",
       "ElasticNet                                  0.9234 -1.133330e+36   \n",
       "DecisionTreeRegressor                       0.5214  6.900000e-01   \n",
       "RandomForestRegressor                       0.3594  8.300000e-01   \n",
       "AdaBoostRegressor                           0.4407  7.000000e-01   \n",
       "GradientBoostingRegressor                   0.3868  8.100000e-01   \n",
       "XGBRegressor                                0.3791  8.300000e-01   \n",
       "\n",
       "                           Mean of Cross validaton Score  \n",
       "Model                                                     \n",
       "KNeighborsRegressor                               0.7199  \n",
       "SVR                                               0.7707  \n",
       "LinearRegression                                  0.7022  \n",
       "Lasso                                            -0.0216  \n",
       "Ridge                                             0.7107  \n",
       "ElasticNet                                       -0.0216  \n",
       "DecisionTreeRegressor                             0.6434  \n",
       "RandomForestRegressor                             0.7967  \n",
       "AdaBoostRegressor                                 0.7510  \n",
       "GradientBoostingRegressor                         0.7885  \n",
       "XGBRegressor                                      0.7775  "
      ]
     },
     "execution_count": 132,
     "metadata": {},
     "output_type": "execute_result"
    }
   ],
   "source": [
    "createmodels(models,x,y,names)"
   ]
  },
  {
   "cell_type": "markdown",
   "metadata": {},
   "source": [
    "Random Forest, Gradient Boost, Xtreme Gradient Boost give us the best performance, so we further try hyperparameter tuning on them"
   ]
  },
  {
   "cell_type": "markdown",
   "metadata": {},
   "source": [
    "### Hyperparameter tuning"
   ]
  },
  {
   "cell_type": "code",
   "execution_count": 133,
   "metadata": {},
   "outputs": [],
   "source": [
    "xtrain,xtest,ytrain,ytest=train_test_split(x,y,test_size=0.25,random_state=randomstate(x,y))"
   ]
  },
  {
   "cell_type": "markdown",
   "metadata": {},
   "source": [
    "#### Random Forest"
   ]
  },
  {
   "cell_type": "code",
   "execution_count": 134,
   "metadata": {},
   "outputs": [
    {
     "data": {
      "text/plain": [
       "RandomizedSearchCV(cv=10, estimator=RandomForestRegressor(),\n",
       "                   param_distributions={'max_depth': [None, 1, 2, 3, 4, 5, 6, 7,\n",
       "                                                      8],\n",
       "                                        'min_samples_leaf': [1, 2, 3, 4],\n",
       "                                        'min_samples_split': [1, 2, 3, 4],\n",
       "                                        'n_estimators': [100, 300, 500, 700]})"
      ]
     },
     "execution_count": 134,
     "metadata": {},
     "output_type": "execute_result"
    }
   ],
   "source": [
    "params={'n_estimators':[100, 300, 500, 700],\n",
    "        'min_samples_split':[1,2,3,4],\n",
    "        'min_samples_leaf':[1,2,3,4],\n",
    "            'max_depth':[None,1,2,3,4,5,6,7,8]}\n",
    "\n",
    "g=RandomizedSearchCV(RandomForestRegressor(),params,cv=10)\n",
    "\n",
    "g.fit(xtrain,ytrain)"
   ]
  },
  {
   "cell_type": "code",
   "execution_count": 135,
   "metadata": {},
   "outputs": [
    {
     "name": "stdout",
     "output_type": "stream",
     "text": [
      "RandomForestRegressor(min_samples_leaf=2, min_samples_split=4)\n",
      "{'n_estimators': 100, 'min_samples_split': 4, 'min_samples_leaf': 2, 'max_depth': None}\n",
      "0.7992513023815812\n"
     ]
    }
   ],
   "source": [
    "print(g.best_estimator_)\n",
    "print(g.best_params_)\n",
    "print(g.best_score_)"
   ]
  },
  {
   "cell_type": "code",
   "execution_count": 136,
   "metadata": {},
   "outputs": [],
   "source": [
    "m=RandomForestRegressor(min_samples_leaf=2, min_samples_split=4,n_estimators=100)\n",
    "m.fit(xtrain,ytrain)\n",
    "p=m.predict(xtest)\n",
    "score=cross_val_score(m,x,y,cv=10)"
   ]
  },
  {
   "cell_type": "code",
   "execution_count": 137,
   "metadata": {},
   "outputs": [
    {
     "name": "stdout",
     "output_type": "stream",
     "text": [
      "Mean Absolute Error is 0.2563\n",
      "Mean Squared Error is 0.1317\n",
      "Root Mean Squared Error is 0.3629\n",
      "R2 Score is 82.66\n",
      "Mean of cross validaton Score is 79.1544\n"
     ]
    }
   ],
   "source": [
    "print('Mean Absolute Error is',np.round(mean_absolute_error(p,ytest),4))\n",
    "print('Mean Squared Error is',np.round(mean_squared_error(p,ytest),4))\n",
    "print('Root Mean Squared Error is',np.round(np.sqrt(mean_squared_error(p,ytest)),4))\n",
    "print('R2 Score is',np.round(r2_score(p,ytest),4)*100)\n",
    "print('Mean of cross validaton Score is',np.round(np.mean(score)*100,4))"
   ]
  },
  {
   "cell_type": "markdown",
   "metadata": {},
   "source": [
    "#### GradientBoostingRegressor"
   ]
  },
  {
   "cell_type": "code",
   "execution_count": 138,
   "metadata": {},
   "outputs": [
    {
     "data": {
      "text/plain": [
       "RandomizedSearchCV(cv=10, estimator=GradientBoostingRegressor(),\n",
       "                   param_distributions={'max_depth': [6, 7, 8, 9, 10, None],\n",
       "                                        'subsample': [0.5, 1]})"
      ]
     },
     "execution_count": 138,
     "metadata": {},
     "output_type": "execute_result"
    }
   ],
   "source": [
    "params={'subsample':[0.5,1],\n",
    "      'max_depth':[6,7,8,9,10,None]}\n",
    "\n",
    "g=RandomizedSearchCV(GradientBoostingRegressor(),params,cv=10)\n",
    "\n",
    "g.fit(xtrain,ytrain)"
   ]
  },
  {
   "cell_type": "code",
   "execution_count": 139,
   "metadata": {},
   "outputs": [
    {
     "name": "stdout",
     "output_type": "stream",
     "text": [
      "GradientBoostingRegressor(max_depth=7, subsample=0.5)\n",
      "{'subsample': 0.5, 'max_depth': 7}\n",
      "0.7897578581506803\n"
     ]
    }
   ],
   "source": [
    "print(g.best_estimator_)\n",
    "print(g.best_params_)\n",
    "print(g.best_score_)"
   ]
  },
  {
   "cell_type": "code",
   "execution_count": 140,
   "metadata": {},
   "outputs": [],
   "source": [
    "m=GradientBoostingRegressor(max_depth=7, subsample=0.5)\n",
    "m.fit(xtrain,ytrain)\n",
    "p=m.predict(xtest)\n",
    "score=cross_val_score(m,x,y,cv=10)"
   ]
  },
  {
   "cell_type": "code",
   "execution_count": 141,
   "metadata": {},
   "outputs": [
    {
     "name": "stdout",
     "output_type": "stream",
     "text": [
      "Mean Absolute Error is 0.2841\n",
      "Mean Squared Error is 0.1465\n",
      "Root Mean Squared Error is 0.3827\n",
      "R2 Score is 81.91000000000001\n",
      "Mean of cross validaton Score is 79.3468\n"
     ]
    }
   ],
   "source": [
    "print('Mean Absolute Error is',np.round(mean_absolute_error(p,ytest),4))\n",
    "print('Mean Squared Error is',np.round(mean_squared_error(p,ytest),4))\n",
    "print('Root Mean Squared Error is',np.round(np.sqrt(mean_squared_error(p,ytest)),4))\n",
    "print('R2 Score is',np.round(r2_score(p,ytest),4)*100)\n",
    "print('Mean of cross validaton Score is',np.round(np.mean(score)*100,4))"
   ]
  },
  {
   "cell_type": "markdown",
   "metadata": {},
   "source": [
    "#### XGBRegressor"
   ]
  },
  {
   "cell_type": "code",
   "execution_count": 142,
   "metadata": {},
   "outputs": [
    {
     "data": {
      "text/plain": [
       "RandomizedSearchCV(cv=10,\n",
       "                   estimator=XGBRegressor(base_score=None, booster=None,\n",
       "                                          colsample_bylevel=None,\n",
       "                                          colsample_bynode=None,\n",
       "                                          colsample_bytree=None, gamma=None,\n",
       "                                          gpu_id=None, importance_type='gain',\n",
       "                                          interaction_constraints=None,\n",
       "                                          learning_rate=None,\n",
       "                                          max_delta_step=None, max_depth=None,\n",
       "                                          min_child_weight=None, missing=nan,\n",
       "                                          monotone_constraints=None,\n",
       "                                          n_estimators=100,...one,\n",
       "                                          num_parallel_tree=None,\n",
       "                                          random_state=None, reg_alpha=None,\n",
       "                                          reg_lambda=None,\n",
       "                                          scale_pos_weight=None, subsample=None,\n",
       "                                          tree_method=None,\n",
       "                                          validate_parameters=None,\n",
       "                                          verbosity=0),\n",
       "                   param_distributions={'colsample_bytree': [0.3, 0.4, 0.5,\n",
       "                                                             0.7],\n",
       "                                        'gamma': [0.0, 0.1, 0.2, 0.3, 0.4],\n",
       "                                        'learning_rate': [0.001, 0.05, 0.1],\n",
       "                                        'max_depth': [4, 5, 6, 8, 10, 12, 15],\n",
       "                                        'min_child_weight': [1, 3, 5, 7]})"
      ]
     },
     "execution_count": 142,
     "metadata": {},
     "output_type": "execute_result"
    }
   ],
   "source": [
    "params={\n",
    " \"learning_rate\"    : [0.001,0.05, 0.10, ] ,\n",
    " \"max_depth\"        : [ 4, 5, 6, 8, 10, 12, 15],\n",
    " \"min_child_weight\" : [ 1, 3, 5, 7 ],\n",
    " \"gamma\"            : [ 0.0, 0.1, 0.2 , 0.3, 0.4 ],\n",
    " \"colsample_bytree\" : [ 0.3, 0.4, 0.5 , 0.7 ]\n",
    "    }\n",
    "\n",
    "g=RandomizedSearchCV(XGBRegressor(verbosity=0),params,cv=10)\n",
    "\n",
    "g.fit(xtrain,ytrain)"
   ]
  },
  {
   "cell_type": "code",
   "execution_count": 143,
   "metadata": {},
   "outputs": [
    {
     "name": "stdout",
     "output_type": "stream",
     "text": [
      "XGBRegressor(base_score=0.5, booster='gbtree', colsample_bylevel=1,\n",
      "             colsample_bynode=1, colsample_bytree=0.3, gamma=0.2, gpu_id=-1,\n",
      "             importance_type='gain', interaction_constraints='',\n",
      "             learning_rate=0.05, max_delta_step=0, max_depth=10,\n",
      "             min_child_weight=7, missing=nan, monotone_constraints='()',\n",
      "             n_estimators=100, n_jobs=4, num_parallel_tree=1, random_state=0,\n",
      "             reg_alpha=0, reg_lambda=1, scale_pos_weight=1, subsample=1,\n",
      "             tree_method='exact', validate_parameters=1, verbosity=0)\n",
      "{'min_child_weight': 7, 'max_depth': 10, 'learning_rate': 0.05, 'gamma': 0.2, 'colsample_bytree': 0.3}\n",
      "0.8148364478687574\n"
     ]
    }
   ],
   "source": [
    "print(g.best_estimator_)\n",
    "print(g.best_params_)\n",
    "print(g.best_score_)"
   ]
  },
  {
   "cell_type": "code",
   "execution_count": 144,
   "metadata": {},
   "outputs": [],
   "source": [
    "m=XGBRegressor(colsample_bytree=0.3,gamma=0.2,learning_rate=0.01,max_depth=10,min_child_weight=7)\n",
    "m.fit(xtrain,ytrain)\n",
    "p=m.predict(xtest)\n",
    "score=cross_val_score(m,x,y,cv=10)"
   ]
  },
  {
   "cell_type": "code",
   "execution_count": 145,
   "metadata": {},
   "outputs": [
    {
     "name": "stdout",
     "output_type": "stream",
     "text": [
      "Mean Absolute Error is 0.4309\n",
      "Mean Squared Error is 0.3013\n",
      "Root Mean Squared Error is 0.549\n",
      "R2 Score is -22.720000000000002\n",
      "Mean of cross validaton Score is 61.5766\n"
     ]
    }
   ],
   "source": [
    "print('Mean Absolute Error is',np.round(mean_absolute_error(p,ytest),4))\n",
    "print('Mean Squared Error is',np.round(mean_squared_error(p,ytest),4))\n",
    "print('Root Mean Squared Error is',np.round(np.sqrt(mean_squared_error(p,ytest)),4))\n",
    "print('R2 Score is',np.round(r2_score(p,ytest),4)*100)\n",
    "print('Mean of cross validaton Score is',np.round(np.mean(score)*100,4))"
   ]
  },
  {
   "cell_type": "markdown",
   "metadata": {},
   "source": [
    "Random Forest is giving the best performance with minimum error compared to all the models, so we choose it as out final model."
   ]
  },
  {
   "cell_type": "markdown",
   "metadata": {},
   "source": [
    "# Finalizing the Model for capacity_mw"
   ]
  },
  {
   "cell_type": "code",
   "execution_count": 146,
   "metadata": {},
   "outputs": [],
   "source": [
    "model2=RandomForestRegressor(min_samples_leaf=2, min_samples_split=4,n_estimators=100)\n",
    "model2.fit(xtrain,ytrain)\n",
    "p2=model2.predict(xtest)\n",
    "score2=cross_val_score(model2,x,y,cv=10)"
   ]
  },
  {
   "cell_type": "markdown",
   "metadata": {},
   "source": [
    "### Evaluation Metrics"
   ]
  },
  {
   "cell_type": "code",
   "execution_count": 147,
   "metadata": {},
   "outputs": [
    {
     "name": "stdout",
     "output_type": "stream",
     "text": [
      "Mean Absolute Error is 0.256\n",
      "Mean Squared Error is 0.127\n",
      "Root Mean Squared Error is 0.3563\n",
      "R2 Score is 83.41\n",
      "Mean of cross validaton Score is 79.6376\n"
     ]
    }
   ],
   "source": [
    "print('Mean Absolute Error is',np.round(mean_absolute_error(p2,ytest),4))\n",
    "print('Mean Squared Error is',np.round(mean_squared_error(p2,ytest),4))\n",
    "print('Root Mean Squared Error is',np.round(np.sqrt(mean_squared_error(p2,ytest)),4))\n",
    "print('R2 Score is',np.round(r2_score(p2,ytest),4)*100)\n",
    "print('Mean of cross validaton Score is',np.round(np.mean(score2)*100,4))"
   ]
  },
  {
   "cell_type": "code",
   "execution_count": 148,
   "metadata": {},
   "outputs": [
    {
     "data": {
      "text/plain": [
       "Text(0.5, 1.0, 'RandomForestRegressor')"
      ]
     },
     "execution_count": 148,
     "metadata": {},
     "output_type": "execute_result"
    },
    {
     "data": {
      "image/png": "[encoded data removed]",
      "text/plain": [
       "<Figure size 432x288 with 1 Axes>"
      ]
     },
     "metadata": {},
     "output_type": "display_data"
    }
   ],
   "source": [
    "plt.scatter(x=ytest,y=p2,color='g')\n",
    "plt.plot(ytest,ytest,color='k')\n",
    "plt.xlabel('Actual Capacity MW')\n",
    "plt.ylabel('Predicted Capacity MW')\n",
    "plt.title('RandomForestRegressor')"
   ]
  },
  {
   "cell_type": "markdown",
   "metadata": {},
   "source": [
    "# Saving the Model"
   ]
  },
  {
   "cell_type": "code",
   "execution_count": 149,
   "metadata": {},
   "outputs": [
    {
     "data": {
      "text/plain": [
       "['powerplant.obj']"
      ]
     },
     "execution_count": 149,
     "metadata": {},
     "output_type": "execute_result"
    }
   ],
   "source": [
    "#saving the model for Primary Fuel    \n",
    "import joblib\n",
    "joblib.dump(model1,'powerplant.obj')"
   ]
  },
  {
   "cell_type": "code",
   "execution_count": 150,
   "metadata": {},
   "outputs": [
    {
     "data": {
      "text/plain": [
       "['powerplantcapacity.obj']"
      ]
     },
     "execution_count": 150,
     "metadata": {},
     "output_type": "execute_result"
    }
   ],
   "source": [
    "#saving the model for capacity_mw    \n",
    "import joblib\n",
    "joblib.dump(model2,'powerplantcapacity.obj')"
   ]
  },
  {
   "cell_type": "code",
   "execution_count": null,
   "metadata": {},
   "outputs": [],
   "source": []
  }
 ],
 "metadata": {
  "kernelspec": {
   "display_name": "Python 3",
   "language": "python",
   "name": "python3"
  },
  "language_info": {
   "codemirror_mode": {
    "name": "ipython",
    "version": 3
   },
   "file_extension": ".py",
   "mimetype": "text/x-python",
   "name": "python",
   "nbconvert_exporter": "python",
   "pygments_lexer": "ipython3",
   "version": "3.8.5"
  }
 },
 "nbformat": 4,
 "nbformat_minor": 4
}
